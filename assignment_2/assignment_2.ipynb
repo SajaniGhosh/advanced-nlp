{
 "cells": [
  {
   "cell_type": "markdown",
   "id": "22bab8198091b34b",
   "metadata": {},
   "source": [
    "# Advanced NLP Assignment 2: Transformer-Based SRL Pipeline"
   ]
  },
  {
   "cell_type": "markdown",
   "id": "8b9cbcb95dd2dc5a",
   "metadata": {},
   "source": [
    "## Link to the model:\n",
    "https://drive.google.com/drive/folders/131Qrbyv_SIQ-TMl8w4N2BghkOIKI_NnG?usp=sharing"
   ]
  },
  {
   "cell_type": "markdown",
   "id": "af2e84b2f3b2c19e",
   "metadata": {},
   "source": [
    "A lot of the below code deals with the universal propbank data, and it is the same as the code I have used in Assignment 1."
   ]
  },
  {
   "cell_type": "markdown",
   "id": "69a3dbf9af7d9a58",
   "metadata": {},
   "source": [
    "### 1. Data Cleaning"
   ]
  },
  {
   "cell_type": "code",
   "execution_count": 1,
   "id": "initial_id",
   "metadata": {
    "ExecuteTime": {
     "end_time": "2025-03-27T21:03:17.841695Z",
     "start_time": "2025-03-27T21:03:15.857002Z"
    },
    "collapsed": true,
    "jupyter": {
     "outputs_hidden": true
    }
   },
   "outputs": [],
   "source": [
    "def preprocess_propbank(file_path):\n",
    "    \"\"\"\n",
    "    Preprocesses the Universal Proposition Bank data from a CoNLL file.\n",
    "    Extracts only words, predicate IDs, and argument structures.\n",
    "    Correctly associates each argument structure with its corresponding predicate.\n",
    "\n",
    "    Args:\n",
    "        file_path (str): Path to the .conllu file.\n",
    "\n",
    "    Returns:\n",
    "        list: A list of dictionaries, where each dictionary represents a preprocessed sentence.\n",
    "    \"\"\"\n",
    "    with open(file_path, \"r\", encoding=\"utf-8\") as f:\n",
    "        data = f.read()\n",
    "\n",
    "    sentences = data.strip().split(\"\\n\\n\")  # Each sentence is separated by a blank line\n",
    "    preprocessed_data = []\n",
    "\n",
    "    for sentence_block in sentences:\n",
    "        lines = sentence_block.strip().split(\"\\n\")\n",
    "        words = []\n",
    "        predicates = {}  # Store predicate index and sense\n",
    "        sentence_id = \"_\"\n",
    "        invalid_word_id = False\n",
    "\n",
    "        # Extract sentence ID\n",
    "        for line in lines:\n",
    "            if line.startswith(\"# sent_id\"):\n",
    "                sentence_id = line.split(\" = \")[1]\n",
    "                break\n",
    "\n",
    "        # Filter out comment lines\n",
    "        lines = [x for x in lines if not x.startswith(\"#\")]\n",
    "\n",
    "        # Extract words and predicates\n",
    "        for line_idx, line in enumerate(lines):\n",
    "            parts = line.split(\"\\t\")\n",
    "\n",
    "            # Ensure the line has at least 10 columns\n",
    "            if len(parts) < 10:\n",
    "                continue  \n",
    "\n",
    "            token_id_str = parts[0]\n",
    "\n",
    "            # Ignore non-integer token IDs (e.g., \"8.1\", \"_\")\n",
    "            if not token_id_str.isdigit():\n",
    "                invalid_word_id = True\n",
    "                continue  \n",
    "\n",
    "            token_id = int(token_id_str)\n",
    "            token_form = parts[1]\n",
    "            predicate_sense = parts[10] if len(parts) > 10 else \"_\"\n",
    "\n",
    "            words.append(token_form)  # Collect words of the sentence\n",
    "\n",
    "            # If it's a predicate, store its index\n",
    "            if predicate_sense != \"_\":\n",
    "                predicates[token_id] = predicate_sense  \n",
    "\n",
    "        if invalid_word_id:\n",
    "            continue\n",
    "\n",
    "        # Extract argument structures for each predicate\n",
    "        for pred_index, pred_sense in predicates.items():\n",
    "            arguments = [\"O\"] * len(words)  # Default all tokens to \"O\"\n",
    "\n",
    "            # Find the argument column corresponding to this predicate\n",
    "            for tok_idx, line in enumerate(lines):\n",
    "                parts = line.split(\"\\t\")\n",
    "\n",
    "                if len(parts) > 10:  # Ensure argument columns exist\n",
    "                    # Iterate over all argument columns to find the one with \"V\" for this predicate\n",
    "                    for col_idx in range(11, len(parts)):\n",
    "                        if parts[col_idx] == \"V\" and tok_idx == pred_index - 1:\n",
    "                            # This column corresponds to the current predicate\n",
    "                            for line_idx2, line2 in enumerate(lines):\n",
    "                                parts2 = line2.split(\"\\t\")\n",
    "                                if len(parts2) > col_idx:\n",
    "                                    arg_label = parts2[col_idx]\n",
    "                                    if arg_label != \"_\":\n",
    "                                        arguments[line_idx2] = arg_label\n",
    "                            break  # Stop searching once the correct column is found\n",
    "\n",
    "            # Ensure the number of arguments matches the number of words\n",
    "            if len(arguments) != len(words):\n",
    "                print(f\"Mismatch in sentence: {words}\")\n",
    "                continue  # Skip this sentence or handle the mismatch\n",
    "\n",
    "            preprocessed_data.append({\n",
    "                \"words\": words,\n",
    "                \"predicate_id\": pred_index,\n",
    "                \"arguments\": arguments,\n",
    "                \"sentence_id\": sentence_id\n",
    "            })\n",
    "\n",
    "    return preprocessed_data\n",
    "\n",
    "train_file = \"data/en_ewt-up-train.conllu\"\n",
    "test_file = \"data/en_ewt-up-test.conllu\"\n",
    "\n",
    "preprocessed_train_data = preprocess_propbank(train_file)\n",
    "preprocessed_test_data = preprocess_propbank(test_file)"
   ]
  },
  {
   "cell_type": "code",
   "execution_count": 2,
   "id": "bcd3320c7e45cfa7",
   "metadata": {
    "ExecuteTime": {
     "end_time": "2025-03-27T21:03:20.357790Z",
     "start_time": "2025-03-27T21:03:20.051834Z"
    }
   },
   "outputs": [],
   "source": [
    "with open('preprocessed_train_data.csv', 'w', encoding='utf-8') as f:\n",
    "    for line in preprocessed_train_data:\n",
    "        f.write(f\"{line}\\n\")"
   ]
  },
  {
   "cell_type": "code",
   "execution_count": 3,
   "id": "628eff9535ec671f",
   "metadata": {
    "ExecuteTime": {
     "end_time": "2025-03-27T21:03:21.484233Z",
     "start_time": "2025-03-27T21:03:21.411791Z"
    }
   },
   "outputs": [],
   "source": [
    "with open('preprocessed_test_data.csv', 'w', encoding='utf-8') as f:\n",
    "    for line in preprocessed_test_data:\n",
    "        f.write(f\"{line}\\n\")"
   ]
  },
  {
   "cell_type": "code",
   "execution_count": 4,
   "id": "e8d6687fd9615da0",
   "metadata": {
    "ExecuteTime": {
     "end_time": "2025-03-27T21:03:22.456326Z",
     "start_time": "2025-03-27T21:03:22.431921Z"
    }
   },
   "outputs": [],
   "source": [
    "for sentence in preprocessed_train_data:\n",
    "    assert len(sentence[\"words\"]) == len(sentence[\"arguments\"]), \"Mismatch in train data\"\n",
    "\n",
    "for sentence in preprocessed_test_data:\n",
    "    assert len(sentence[\"words\"]) == len(sentence[\"arguments\"]), \"Mismatch in test data\""
   ]
  },
  {
   "cell_type": "markdown",
   "id": "57f746975dded316",
   "metadata": {},
   "source": [
    "### 2. Gathering Statistics"
   ]
  },
  {
   "cell_type": "code",
   "execution_count": 5,
   "id": "df8744497378450e",
   "metadata": {
    "ExecuteTime": {
     "end_time": "2025-03-27T21:03:28.502067Z",
     "start_time": "2025-03-27T21:03:28.319741Z"
    }
   },
   "outputs": [
    {
     "name": "stdout",
     "output_type": "stream",
     "text": [
      "Train Statistics (Before Preprocessing): {'num_sentences': 12543, 'num_tokens': 204609}\n",
      "Test Statistics (Before Preprocessing): {'num_sentences': 2077, 'num_tokens': 25097}\n",
      "Train Statistics (After Preprocessing): {'num_sentences': 40396, 'num_tokens': 1024323}\n",
      "Test Statistics (After Preprocessing): {'num_sentences': 4863, 'num_tokens': 101518}\n"
     ]
    }
   ],
   "source": [
    "def gather_statistics(preprocessed_data):\n",
    "    \"\"\"\n",
    "    Gathers statistics about the preprocessed data.\n",
    "\n",
    "    Args:\n",
    "        preprocessed_data (list): List of preprocessed sentences.\n",
    "\n",
    "    Returns:\n",
    "        dict: A dictionary containing statistics.\n",
    "    \"\"\"\n",
    "    num_sentences = len(preprocessed_data)\n",
    "    num_tokens = sum(len(sentence[\"words\"]) for sentence in preprocessed_data)\n",
    "\n",
    "    return {\n",
    "        \"num_sentences\": num_sentences,\n",
    "        \"num_tokens\": num_tokens\n",
    "    }\n",
    "\n",
    "def gather_raw_statistics(file_path):\n",
    "    \"\"\"\n",
    "    Gathers statistics about the raw CoNLL data before preprocessing.\n",
    "\n",
    "    Args:\n",
    "        file_path (str): Path to the CoNLL file.\n",
    "\n",
    "    Returns:\n",
    "        dict: A dictionary containing statistics.\n",
    "    \"\"\"\n",
    "    with open(file_path, \"r\", encoding=\"utf-8\") as f:\n",
    "        data = f.read()\n",
    "\n",
    "    # Split the data into sentences (each sentence is separated by a blank line)\n",
    "    sentences = data.strip().split(\"\\n\\n\")\n",
    "    num_sentences = len(sentences)\n",
    "\n",
    "    # Count the number of tokens (non-comment lines in each sentence)\n",
    "    num_tokens = 0\n",
    "    for sentence in sentences:\n",
    "        lines = sentence.strip().split(\"\\n\")\n",
    "        # Filter out comment lines (lines starting with \"#\")\n",
    "        num_tokens += len([line for line in lines if not line.startswith(\"#\")])\n",
    "\n",
    "    return {\n",
    "        \"num_sentences\": num_sentences,\n",
    "        \"num_tokens\": num_tokens\n",
    "    }\n",
    "\n",
    "train_raw_stats = gather_raw_statistics(\"data/en_ewt-up-train.conllu\")\n",
    "test_raw_stats = gather_raw_statistics(\"data/en_ewt-up-test.conllu\")\n",
    "\n",
    "train_stats = gather_statistics(preprocessed_train_data)\n",
    "test_stats = gather_statistics(preprocessed_test_data)\n",
    "\n",
    "print(\"Train Statistics (Before Preprocessing):\", train_raw_stats)\n",
    "print(\"Test Statistics (Before Preprocessing):\", test_raw_stats)\n",
    "print(\"Train Statistics (After Preprocessing):\", train_stats)\n",
    "print(\"Test Statistics (After Preprocessing):\", test_stats)"
   ]
  },
  {
   "cell_type": "markdown",
   "id": "3ed48cd01bf2f1cc",
   "metadata": {},
   "source": [
    "### 3. Pre-processing"
   ]
  },
  {
   "cell_type": "markdown",
   "id": "779eae85aa3f48bf",
   "metadata": {},
   "source": [
    "The below code is where we diverge from Assignment 2. The tokenizer cannot handle string input, it tries to convert our labels like `ARG1` and `V` and `O` to strings and fails to do so. Hence, I decided to create a mapping of argument labels to some argument IDs. That is what I have done in the code below."
   ]
  },
  {
   "cell_type": "code",
   "execution_count": 31,
   "id": "6d0ac3971c85d4b1",
   "metadata": {
    "ExecuteTime": {
     "end_time": "2025-03-27T21:35:45.344185Z",
     "start_time": "2025-03-27T21:35:45.317010Z"
    }
   },
   "outputs": [
    {
     "name": "stdout",
     "output_type": "stream",
     "text": [
      "Label mapping: {'ARG0': 0, 'ARG1': 1, 'ARG1-DSP': 2, 'ARG2': 3, 'ARG3': 4, 'ARG4': 5, 'ARG5': 6, 'ARGA': 7, 'ARGM-ADJ': 8, 'ARGM-ADV': 9, 'ARGM-CAU': 10, 'ARGM-COM': 11, 'ARGM-CXN': 12, 'ARGM-DIR': 13, 'ARGM-DIS': 14, 'ARGM-EXT': 15, 'ARGM-GOL': 16, 'ARGM-LOC': 17, 'ARGM-LVB': 18, 'ARGM-MNR': 19, 'ARGM-MOD': 20, 'ARGM-NEG': 21, 'ARGM-PRD': 22, 'ARGM-PRP': 23, 'ARGM-PRR': 24, 'ARGM-REC': 25, 'ARGM-TMP': 26, 'C-ARG0': 27, 'C-ARG1': 28, 'C-ARG1-DSP': 29, 'C-ARG2': 30, 'C-ARG3': 31, 'C-ARG4': 32, 'C-ARGM-ADV': 33, 'C-ARGM-COM': 34, 'C-ARGM-CXN': 35, 'C-ARGM-DIR': 36, 'C-ARGM-EXT': 37, 'C-ARGM-GOL': 38, 'C-ARGM-LOC': 39, 'C-ARGM-MNR': 40, 'C-ARGM-PRP': 41, 'C-ARGM-PRR': 42, 'C-ARGM-TMP': 43, 'C-V': 44, 'O': 45, 'R-ARG0': 46, 'R-ARG1': 47, 'R-ARG2': 48, 'R-ARG3': 49, 'R-ARG4': 50, 'R-ARGM-ADV': 51, 'R-ARGM-CAU': 52, 'R-ARGM-COM': 53, 'R-ARGM-DIR': 54, 'R-ARGM-GOL': 55, 'R-ARGM-LOC': 56, 'R-ARGM-MNR': 57, 'R-ARGM-TMP': 58, 'V': 59}\n"
     ]
    }
   ],
   "source": [
    "# Extract all unique argument labels from the preprocessed data\n",
    "unique_labels = set()\n",
    "\n",
    "for example in preprocessed_train_data:\n",
    "    unique_labels.update(example[\"arguments\"])\n",
    "\n",
    "# Convert to sorted list and create mapping\n",
    "unique_labels = sorted(unique_labels)\n",
    "srl_label_mapping = {label: idx for idx, label in enumerate(unique_labels)}\n",
    "print(\"Label mapping:\", srl_label_mapping)\n"
   ]
  },
  {
   "cell_type": "code",
   "execution_count": 33,
   "id": "e1b35029b7eb50f2",
   "metadata": {
    "ExecuteTime": {
     "end_time": "2025-03-27T21:44:53.859317Z",
     "start_time": "2025-03-27T21:44:53.852339Z"
    }
   },
   "outputs": [],
   "source": [
    "def replace_oov_labels(data, label_mapping, default_label=\"O\"):\n",
    "    \"\"\"\"Replace labels not found in label_mapping with default_label.\n",
    "    \n",
    "    Args:\n",
    "        data: List of dictionaries containing \"arguments\" lists\n",
    "        label_mapping: Dictionary of known labels\n",
    "        default_label: Label to use for OOV cases (default \"O\")\n",
    "    \n",
    "    Returns:\n",
    "        Modified data with OOV labels replaced\n",
    "    \"\"\"\n",
    "    for example in data:\n",
    "        example[\"arguments\"] = [\n",
    "            label if label in label_mapping else default_label\n",
    "            for label in example[\"arguments\"]\n",
    "        ]\n",
    "    return data"
   ]
  },
  {
   "cell_type": "code",
   "execution_count": 34,
   "id": "7c42eb16d5416eef",
   "metadata": {
    "ExecuteTime": {
     "end_time": "2025-03-27T21:44:59.559980Z",
     "start_time": "2025-03-27T21:44:59.541717Z"
    }
   },
   "outputs": [],
   "source": [
    "preprocessed_test_data = replace_oov_labels(\n",
    "    preprocessed_test_data,\n",
    "    srl_label_mapping,\n",
    "    default_label=\"O\"\n",
    ")"
   ]
  },
  {
   "cell_type": "markdown",
   "id": "9ec88eb4174f0794",
   "metadata": {},
   "source": [
    "In assignment 1, I kept a 1-based predicate_index integer to indicate the predicate in the sentences. However, for a transformer based model, it is better to have a predicate mask, which is full of 0s and has a value of 1 for the index corresponding to the predicate in the token list."
   ]
  },
  {
   "cell_type": "code",
   "execution_count": 62,
   "id": "53aea87126736811",
   "metadata": {
    "ExecuteTime": {
     "end_time": "2025-03-28T10:53:30.595152Z",
     "start_time": "2025-03-28T10:53:30.592530Z"
    }
   },
   "outputs": [],
   "source": [
    "def create_predicate_indicator(words_list, predicate_id):\n",
    "    \"\"\"\n",
    "    Converts 1-based predicate_id to a 0-based indicator list.\n",
    "    \n",
    "    Args:\n",
    "        words_list: List of words in the sentence\n",
    "        predicate_id: 1-based index of the predicate\n",
    "        \n",
    "    Returns:\n",
    "        List of 0s with a 1 at the predicate position (0-based)\n",
    "    \"\"\"\n",
    "    predicate_indicator = [0] * len(words_list)\n",
    "    if 1 <= predicate_id <= len(words_list):\n",
    "        predicate_indicator[predicate_id - 1] = 1  # Convert to 0-based\n",
    "    return predicate_indicator"
   ]
  },
  {
   "cell_type": "markdown",
   "id": "2806480ed8440cd8",
   "metadata": {},
   "source": [
    "We describe the features of the dataset for the datasets library"
   ]
  },
  {
   "cell_type": "code",
   "execution_count": 63,
   "id": "5e50da57b3e3697b",
   "metadata": {
    "ExecuteTime": {
     "end_time": "2025-03-28T10:56:26.349775Z",
     "start_time": "2025-03-28T10:56:26.345536Z"
    }
   },
   "outputs": [],
   "source": [
    "from datasets import Dataset, DatasetDict, Features, Value, Sequence, ClassLabel\n",
    "\n",
    "# Defining the features for the Hugging Face dataset.\n",
    "features = Features({\n",
    "    'words': Sequence(feature=Value(dtype='string')),\n",
    "    'predicate': Sequence(feature=Value(dtype='string')),\n",
    "    'arguments': Sequence(feature=ClassLabel(names=unique_labels)),\n",
    "})"
   ]
  },
  {
   "cell_type": "markdown",
   "id": "1c17534189bfbb59",
   "metadata": {},
   "source": [
    "Here. I have converted our dataset which was a list of dictionaries for each sentence of data, to a datset_dict format. I also applied the create_predicate_indicator function described above, and also, the label_mapping created above, to create a HuggingFace style dataset_dict"
   ]
  },
  {
   "cell_type": "code",
   "execution_count": 64,
   "id": "db368fbfa139add8",
   "metadata": {
    "ExecuteTime": {
     "end_time": "2025-03-28T10:56:32.328806Z",
     "start_time": "2025-03-28T10:56:30.968775Z"
    }
   },
   "outputs": [],
   "source": [
    "def convert_to_dataset(preprocessed_data, label_mapping):\n",
    "    \"\"\"\n",
    "    Converts preprocessed data to Hugging Face Dataset format with integer labels.\n",
    "    \n",
    "    Args:\n",
    "        preprocessed_data: List of dictionaries containing:\n",
    "            - words: List[str]\n",
    "            - predicate_id: int \n",
    "            - arguments: List[str]\n",
    "            - sentence_id: str\n",
    "        label_mapping: Dictionary mapping argument strings to integers\n",
    "            \n",
    "    Returns:\n",
    "        Hugging Face Dataset with:\n",
    "            - Original string fields\n",
    "            - argument_ids: List[int] (mapped labels)\n",
    "    \"\"\"\n",
    "    # Convert arguments to integer IDs using provided mapping\n",
    "    processed_examples = []\n",
    "    for example in preprocessed_data:\n",
    "        preds = create_predicate_indicator(example[\"words\"], example[\"predicate_id\"])\n",
    "        new_example = {\n",
    "            \"words\": example[\"words\"],\n",
    "            \"predicate\": preds,\n",
    "            \"arguments\": [label_mapping[label] for label in example[\"arguments\"]]\n",
    "        }\n",
    "        processed_examples.append(new_example)\n",
    "    \n",
    "    # Convert to Hugging Face Dataset\n",
    "    return Dataset.from_list(processed_examples, features=features)\n",
    "\n",
    "\n",
    "\n",
    "train_dataset = convert_to_dataset(preprocessed_train_data, srl_label_mapping)\n",
    "test_dataset = convert_to_dataset(preprocessed_test_data, srl_label_mapping)\n",
    "\n",
    "dataset_dict = DatasetDict({\n",
    "    \"train\": train_dataset,\n",
    "    \"test\": test_dataset\n",
    "})"
   ]
  },
  {
   "cell_type": "code",
   "execution_count": 65,
   "id": "196f62fb1d75e61e",
   "metadata": {
    "ExecuteTime": {
     "end_time": "2025-03-28T10:57:01.060554Z",
     "start_time": "2025-03-28T10:57:01.057572Z"
    }
   },
   "outputs": [
    {
     "name": "stdout",
     "output_type": "stream",
     "text": [
      "DatasetDict({\n",
      "    train: Dataset({\n",
      "        features: ['words', 'predicate', 'arguments'],\n",
      "        num_rows: 40396\n",
      "    })\n",
      "    test: Dataset({\n",
      "        features: ['words', 'predicate', 'arguments'],\n",
      "        num_rows: 4863\n",
      "    })\n",
      "})\n"
     ]
    }
   ],
   "source": [
    "print(dataset_dict)"
   ]
  },
  {
   "cell_type": "markdown",
   "id": "b8f545759081c034",
   "metadata": {},
   "source": [
    "I create a `label_list` to keep track of all the labels occuring in the train datset."
   ]
  },
  {
   "cell_type": "code",
   "execution_count": 66,
   "id": "d013226364cf5839",
   "metadata": {
    "ExecuteTime": {
     "end_time": "2025-03-28T10:58:00.960074Z",
     "start_time": "2025-03-28T10:58:00.955781Z"
    }
   },
   "outputs": [
    {
     "data": {
      "text/plain": [
       "['ARG0',\n",
       " 'ARG1',\n",
       " 'ARG1-DSP',\n",
       " 'ARG2',\n",
       " 'ARG3',\n",
       " 'ARG4',\n",
       " 'ARG5',\n",
       " 'ARGA',\n",
       " 'ARGM-ADJ',\n",
       " 'ARGM-ADV',\n",
       " 'ARGM-CAU',\n",
       " 'ARGM-COM',\n",
       " 'ARGM-CXN',\n",
       " 'ARGM-DIR',\n",
       " 'ARGM-DIS',\n",
       " 'ARGM-EXT',\n",
       " 'ARGM-GOL',\n",
       " 'ARGM-LOC',\n",
       " 'ARGM-LVB',\n",
       " 'ARGM-MNR',\n",
       " 'ARGM-MOD',\n",
       " 'ARGM-NEG',\n",
       " 'ARGM-PRD',\n",
       " 'ARGM-PRP',\n",
       " 'ARGM-PRR',\n",
       " 'ARGM-REC',\n",
       " 'ARGM-TMP',\n",
       " 'C-ARG0',\n",
       " 'C-ARG1',\n",
       " 'C-ARG1-DSP',\n",
       " 'C-ARG2',\n",
       " 'C-ARG3',\n",
       " 'C-ARG4',\n",
       " 'C-ARGM-ADV',\n",
       " 'C-ARGM-COM',\n",
       " 'C-ARGM-CXN',\n",
       " 'C-ARGM-DIR',\n",
       " 'C-ARGM-EXT',\n",
       " 'C-ARGM-GOL',\n",
       " 'C-ARGM-LOC',\n",
       " 'C-ARGM-MNR',\n",
       " 'C-ARGM-PRP',\n",
       " 'C-ARGM-PRR',\n",
       " 'C-ARGM-TMP',\n",
       " 'C-V',\n",
       " 'O',\n",
       " 'R-ARG0',\n",
       " 'R-ARG1',\n",
       " 'R-ARG2',\n",
       " 'R-ARG3',\n",
       " 'R-ARG4',\n",
       " 'R-ARGM-ADV',\n",
       " 'R-ARGM-CAU',\n",
       " 'R-ARGM-COM',\n",
       " 'R-ARGM-DIR',\n",
       " 'R-ARGM-GOL',\n",
       " 'R-ARGM-LOC',\n",
       " 'R-ARGM-MNR',\n",
       " 'R-ARGM-TMP',\n",
       " 'V']"
      ]
     },
     "execution_count": 66,
     "metadata": {},
     "output_type": "execute_result"
    }
   ],
   "source": [
    "label_list = dataset_dict[\"train\"].features[\"arguments\"].feature.names\n",
    "label_list"
   ]
  },
  {
   "cell_type": "markdown",
   "id": "2c182a90a9e5758e",
   "metadata": {},
   "source": [
    "An example of how one sentence is stored in the dataset_dict format."
   ]
  },
  {
   "cell_type": "code",
   "execution_count": 67,
   "id": "44c15d6406f2f9d2",
   "metadata": {
    "ExecuteTime": {
     "end_time": "2025-03-28T10:58:31.844034Z",
     "start_time": "2025-03-28T10:58:31.835155Z"
    }
   },
   "outputs": [
    {
     "data": {
      "text/plain": [
       "{'words': ['Al',\n",
       "  '-',\n",
       "  'Zaman',\n",
       "  ':',\n",
       "  'The',\n",
       "  'Iraqi',\n",
       "  'High',\n",
       "  'Electoral',\n",
       "  'Commission',\n",
       "  'on',\n",
       "  'Friday',\n",
       "  'denied',\n",
       "  'a',\n",
       "  'request',\n",
       "  'of',\n",
       "  'the',\n",
       "  'Debaathification',\n",
       "  'Commission',\n",
       "  'to',\n",
       "  'exclude',\n",
       "  '51',\n",
       "  'individuals',\n",
       "  'from',\n",
       "  'running',\n",
       "  'on',\n",
       "  'party',\n",
       "  'lists',\n",
       "  'in',\n",
       "  'the',\n",
       "  'Dec.',\n",
       "  '15',\n",
       "  'elections',\n",
       "  'on',\n",
       "  'grounds',\n",
       "  'of',\n",
       "  'having',\n",
       "  'been',\n",
       "  'sufficiently',\n",
       "  'involved',\n",
       "  'in',\n",
       "  'Baath',\n",
       "  'activities',\n",
       "  'to',\n",
       "  'warrant',\n",
       "  'their',\n",
       "  'being',\n",
       "  'excluded',\n",
       "  'from',\n",
       "  'civil',\n",
       "  'office',\n",
       "  '.'],\n",
       " 'predicate': ['0',\n",
       "  '0',\n",
       "  '0',\n",
       "  '0',\n",
       "  '0',\n",
       "  '0',\n",
       "  '0',\n",
       "  '0',\n",
       "  '0',\n",
       "  '0',\n",
       "  '0',\n",
       "  '0',\n",
       "  '0',\n",
       "  '0',\n",
       "  '0',\n",
       "  '0',\n",
       "  '0',\n",
       "  '0',\n",
       "  '0',\n",
       "  '0',\n",
       "  '0',\n",
       "  '0',\n",
       "  '0',\n",
       "  '0',\n",
       "  '0',\n",
       "  '0',\n",
       "  '0',\n",
       "  '0',\n",
       "  '0',\n",
       "  '0',\n",
       "  '0',\n",
       "  '0',\n",
       "  '0',\n",
       "  '0',\n",
       "  '0',\n",
       "  '1',\n",
       "  '0',\n",
       "  '0',\n",
       "  '0',\n",
       "  '0',\n",
       "  '0',\n",
       "  '0',\n",
       "  '0',\n",
       "  '0',\n",
       "  '0',\n",
       "  '0',\n",
       "  '0',\n",
       "  '0',\n",
       "  '0',\n",
       "  '0',\n",
       "  '0'],\n",
       " 'arguments': [45,\n",
       "  45,\n",
       "  45,\n",
       "  45,\n",
       "  45,\n",
       "  45,\n",
       "  45,\n",
       "  45,\n",
       "  45,\n",
       "  45,\n",
       "  45,\n",
       "  45,\n",
       "  45,\n",
       "  45,\n",
       "  45,\n",
       "  45,\n",
       "  45,\n",
       "  45,\n",
       "  45,\n",
       "  45,\n",
       "  45,\n",
       "  45,\n",
       "  45,\n",
       "  45,\n",
       "  45,\n",
       "  45,\n",
       "  45,\n",
       "  45,\n",
       "  45,\n",
       "  45,\n",
       "  45,\n",
       "  45,\n",
       "  45,\n",
       "  45,\n",
       "  45,\n",
       "  59,\n",
       "  45,\n",
       "  45,\n",
       "  45,\n",
       "  45,\n",
       "  45,\n",
       "  45,\n",
       "  45,\n",
       "  45,\n",
       "  45,\n",
       "  45,\n",
       "  45,\n",
       "  45,\n",
       "  45,\n",
       "  45,\n",
       "  45]}"
      ]
     },
     "execution_count": 67,
     "metadata": {},
     "output_type": "execute_result"
    }
   ],
   "source": [
    "dataset_dict[\"train\"][100]"
   ]
  },
  {
   "cell_type": "markdown",
   "id": "240f834f534daaa1",
   "metadata": {},
   "source": [
    "Save the datasetdict object to a file, if I need to recover it later."
   ]
  },
  {
   "cell_type": "code",
   "execution_count": 68,
   "id": "38e4b514017cf17",
   "metadata": {
    "ExecuteTime": {
     "end_time": "2025-03-28T10:59:21.642647Z",
     "start_time": "2025-03-28T10:59:21.600577Z"
    }
   },
   "outputs": [
    {
     "name": "stderr",
     "output_type": "stream",
     "text": [
      "Saving the dataset (1/1 shards): 100%|██████████| 40396/40396 [00:00<00:00, 1347059.19 examples/s]\n",
      "Saving the dataset (1/1 shards): 100%|██████████| 4863/4863 [00:00<00:00, 939689.50 examples/s] \n"
     ]
    }
   ],
   "source": [
    "dataset_dict.save_to_disk(\"datasetdict\")"
   ]
  },
  {
   "cell_type": "markdown",
   "id": "a9f858610a0d304d",
   "metadata": {},
   "source": [
    "The below function is from the original notebook, and is used to display the dataset in a readable format"
   ]
  },
  {
   "cell_type": "code",
   "execution_count": 69,
   "id": "ebde6453424479c1",
   "metadata": {
    "ExecuteTime": {
     "end_time": "2025-03-28T10:59:31.725798Z",
     "start_time": "2025-03-28T10:59:31.721645Z"
    }
   },
   "outputs": [],
   "source": [
    "from datasets import ClassLabel, Sequence\n",
    "import random\n",
    "import pandas as pd\n",
    "from IPython.display import display, HTML\n",
    "\n",
    "def show_random_elements(dataset, num_examples=10):\n",
    "    assert num_examples <= len(dataset), \"Can't pick more elements than there are in the dataset.\"\n",
    "    picks = []\n",
    "    for _ in range(num_examples):\n",
    "        pick = random.randint(0, len(dataset)-1)\n",
    "        while pick in picks:\n",
    "            pick = random.randint(0, len(dataset)-1)\n",
    "        picks.append(pick)\n",
    "\n",
    "    df = pd.DataFrame(dataset[picks])\n",
    "    for column, typ in dataset.features.items():\n",
    "        if isinstance(typ, ClassLabel):\n",
    "            df[column] = df[column].transform(lambda i: typ.names[i])\n",
    "        elif isinstance(typ, Sequence) and isinstance(typ.feature, ClassLabel):\n",
    "            df[column] = df[column].transform(lambda x: [typ.feature.names[i] for i in x])\n",
    "    display(HTML(df.to_html()))"
   ]
  },
  {
   "cell_type": "code",
   "execution_count": 70,
   "id": "785601ad07f77134",
   "metadata": {
    "ExecuteTime": {
     "end_time": "2025-03-28T10:59:34.381558Z",
     "start_time": "2025-03-28T10:59:34.369802Z"
    }
   },
   "outputs": [
    {
     "data": {
      "text/html": [
       "<table border=\"1\" class=\"dataframe\">\n",
       "  <thead>\n",
       "    <tr style=\"text-align: right;\">\n",
       "      <th></th>\n",
       "      <th>words</th>\n",
       "      <th>predicate</th>\n",
       "      <th>arguments</th>\n",
       "    </tr>\n",
       "  </thead>\n",
       "  <tbody>\n",
       "    <tr>\n",
       "      <th>0</th>\n",
       "      <td>[Otherwise, ,, you, can, do, what, you, can, do, in, other, parts, or, Japan, ,, like, shopping, ,, eating, ,, etc, .]</td>\n",
       "      <td>[0, 0, 0, 0, 0, 0, 0, 0, 0, 0, 0, 0, 0, 0, 0, 0, 0, 0, 1, 0, 0, 0]</td>\n",
       "      <td>[O, O, O, O, O, O, O, O, O, O, O, O, O, O, O, O, O, O, V, O, O, O]</td>\n",
       "    </tr>\n",
       "    <tr>\n",
       "      <th>1</th>\n",
       "      <td>[We, are, running, so, full, tilt, on, TW, that, we, may, not, have, as, much, flexibiltiy, to, manage, this, situation, as, we, expected, ,, but, let, me, know, what, we, can, do, .]</td>\n",
       "      <td>[0, 0, 0, 0, 0, 0, 0, 0, 0, 0, 0, 0, 0, 0, 0, 0, 0, 1, 0, 0, 0, 0, 0, 0, 0, 0, 0, 0, 0, 0, 0, 0, 0]</td>\n",
       "      <td>[O, O, O, O, O, O, O, O, O, O, O, O, O, O, O, O, O, V, O, ARG1, O, O, O, O, O, O, O, O, O, O, O, O, O]</td>\n",
       "    </tr>\n",
       "    <tr>\n",
       "      <th>2</th>\n",
       "      <td>[The, result, will, be, a, dramatic, escalation, in, US, and, civilian, casualties, ,, US, forces, will, be, required, to, bunker, themselves, further, into, their, bases, ,, and, US, forces, will, find, themselves, required, to, fight, the, very, government, they, just, finished, helping, into, power, .]</td>\n",
       "      <td>[0, 0, 0, 0, 0, 0, 0, 0, 0, 0, 0, 0, 0, 0, 0, 0, 0, 0, 0, 0, 0, 0, 0, 0, 0, 0, 0, 0, 0, 0, 0, 0, 0, 0, 0, 0, 0, 0, 0, 0, 0, 1, 0, 0, 0]</td>\n",
       "      <td>[O, O, O, O, O, O, O, O, O, O, O, O, O, O, O, O, O, O, O, O, O, O, O, O, O, O, O, O, O, O, O, O, O, O, O, O, O, ARG2, ARG0, O, O, V, O, ARG1, O]</td>\n",
       "    </tr>\n",
       "    <tr>\n",
       "      <th>3</th>\n",
       "      <td>[Birds, are, hard, to, gain, trust, with, ,, but, it, 's, lost, so, easily, !]</td>\n",
       "      <td>[0, 0, 0, 0, 0, 0, 0, 0, 0, 0, 0, 1, 0, 0, 0]</td>\n",
       "      <td>[O, O, O, O, O, O, O, O, O, ARG1, O, V, O, ARGM-MNR, O]</td>\n",
       "    </tr>\n",
       "    <tr>\n",
       "      <th>4</th>\n",
       "      <td>[Indian, intelligence, 's, lackluster, performance, in, dealing, with, the, LTTE, is, startling, .]</td>\n",
       "      <td>[0, 0, 0, 0, 0, 0, 0, 0, 0, 0, 1, 0, 0]</td>\n",
       "      <td>[O, O, O, O, ARG1, O, O, O, O, O, V, ARG2, O]</td>\n",
       "    </tr>\n",
       "    <tr>\n",
       "      <th>5</th>\n",
       "      <td>[It, is, fair, to, say, that, this, creates, an, unprecedented, breeding, ground, for, cruel, dictators, ,, terror, networks, ,, fanaticism, ,, incitement, ,, suicide, murders, and, general, decline, .]</td>\n",
       "      <td>[0, 0, 0, 0, 0, 0, 0, 0, 0, 0, 0, 0, 0, 0, 0, 0, 0, 0, 0, 0, 0, 1, 0, 0, 0, 0, 0, 0, 0]</td>\n",
       "      <td>[O, O, O, O, O, O, O, O, O, O, O, O, O, O, O, O, O, O, O, O, O, V, O, O, O, O, O, O, O]</td>\n",
       "    </tr>\n",
       "    <tr>\n",
       "      <th>6</th>\n",
       "      <td>[I, called, and, asked, about, the, price, for, hair, updo, and, the, receptionist, or, owner, who, aswered, the, phone, refused, to, tell, me, ,, or, even, just, give, me, an, approximate, price, range, .]</td>\n",
       "      <td>[0, 0, 0, 0, 0, 0, 0, 0, 0, 0, 0, 0, 0, 0, 0, 0, 1, 0, 0, 0, 0, 0, 0, 0, 0, 0, 0, 0, 0, 0, 0, 0, 0, 0]</td>\n",
       "      <td>[O, O, O, O, O, O, O, O, O, O, O, O, ARG0, O, O, R-ARG0, V, O, ARG1, O, O, O, O, O, O, O, O, O, O, O, O, O, O, O]</td>\n",
       "    </tr>\n",
       "    <tr>\n",
       "      <th>7</th>\n",
       "      <td>[We, then, called, the, office, and, the, man, we, spoke, to, said, he, 'd, send, someone, out, to, look, at, it, but, could, n't, promise, when, -, two, weeks, came, and, went, and, we, heard, nothing, .]</td>\n",
       "      <td>[0, 0, 0, 0, 0, 0, 0, 0, 0, 0, 0, 0, 0, 0, 0, 0, 0, 0, 0, 0, 0, 0, 0, 0, 1, 0, 0, 0, 0, 0, 0, 0, 0, 0, 0, 0, 0]</td>\n",
       "      <td>[O, O, O, O, O, O, O, O, O, O, O, O, ARG0, O, O, O, O, O, O, O, O, O, ARGM-MOD, ARGM-NEG, V, ARGM-TMP, O, O, O, O, O, O, O, O, O, O, O]</td>\n",
       "    </tr>\n",
       "    <tr>\n",
       "      <th>8</th>\n",
       "      <td>[50, -, Percentage, decline, in, Environmental, Protection, Agency, enforcement, actions, against, polluters, under, Bush, 's, watch, .]</td>\n",
       "      <td>[0, 0, 0, 0, 0, 0, 0, 0, 0, 1, 0, 0, 0, 0, 0, 0, 0]</td>\n",
       "      <td>[O, O, O, O, O, O, O, ARG0, ARGM-MNR, V, O, ARGM-GOL, O, O, O, O, O]</td>\n",
       "    </tr>\n",
       "    <tr>\n",
       "      <th>9</th>\n",
       "      <td>[The, reports, say, she, is, suspected, of, having, been, a, member, of, Al, Qaeda, 's, \", Chemical, Wire, Group, ., \"]</td>\n",
       "      <td>[0, 1, 0, 0, 0, 0, 0, 0, 0, 0, 0, 0, 0, 0, 0, 0, 0, 0, 0, 0, 0]</td>\n",
       "      <td>[O, V, O, O, O, O, O, O, O, O, O, O, O, O, O, O, O, O, O, O, O]</td>\n",
       "    </tr>\n",
       "  </tbody>\n",
       "</table>"
      ],
      "text/plain": [
       "<IPython.core.display.HTML object>"
      ]
     },
     "metadata": {},
     "output_type": "display_data"
    }
   ],
   "source": [
    "show_random_elements(dataset_dict[\"train\"])"
   ]
  },
  {
   "cell_type": "markdown",
   "id": "62db7924038002ce",
   "metadata": {},
   "source": [
    "### Data Preparation"
   ]
  },
  {
   "cell_type": "markdown",
   "id": "8923eec0e609c061",
   "metadata": {},
   "source": [
    "I have used the recommended `distilbert-base-uncased` pretrained model.\n",
    "To preprocess/prepare the input data to feed to a transformer based model such as `distilbert-base-uncased`, I decided to use the method used in [Simple BERT Models  for Relation Extraction and Semantic Role Labeling by Peng Shi and Jimmy Lin](https://arxiv.org/pdf/1904.05255), which is to append the predicate at the end of the tokenized sentence. The tokenizer adds the [CLS] and [SEP] at the start and end of the sentence respectively. So we want to append our predicate after the [SEP] and then another [SEP] after the predicate. An example of it is given below."
   ]
  },
  {
   "cell_type": "code",
   "execution_count": 71,
   "id": "90a0598caec8abba",
   "metadata": {
    "ExecuteTime": {
     "end_time": "2025-03-28T11:00:51.637899Z",
     "start_time": "2025-03-28T11:00:50.607470Z"
    }
   },
   "outputs": [],
   "source": [
    "from transformers import AutoTokenizer\n",
    "\n",
    "tokenizer = AutoTokenizer.from_pretrained(\"distilbert-base-uncased\")"
   ]
  },
  {
   "cell_type": "code",
   "execution_count": 79,
   "id": "f3d1933f028654ce",
   "metadata": {
    "ExecuteTime": {
     "end_time": "2025-03-28T11:07:53.791932Z",
     "start_time": "2025-03-28T11:07:53.787742Z"
    }
   },
   "outputs": [
    {
     "name": "stdout",
     "output_type": "stream",
     "text": [
      "{'words': ['The', 'third', 'was', 'being', 'run', 'by', 'the', 'head', 'of', 'an', 'investment', 'firm', '.'], 'predicate': ['0', '0', '1', '0', '0', '0', '0', '0', '0', '0', '0', '0', '0'], 'arguments': [45, 45, 59, 45, 45, 45, 45, 45, 45, 45, 45, 45, 45]}\n"
     ]
    }
   ],
   "source": [
    "example = dataset_dict[\"train\"][17]\n",
    "print(example)"
   ]
  },
  {
   "cell_type": "code",
   "execution_count": 86,
   "id": "76789faf6feb8546",
   "metadata": {
    "ExecuteTime": {
     "end_time": "2025-03-28T11:10:29.077862Z",
     "start_time": "2025-03-28T11:10:29.071312Z"
    }
   },
   "outputs": [
    {
     "name": "stdout",
     "output_type": "stream",
     "text": [
      "['[CLS]', 'the', 'third', 'was', 'being', 'run', 'by', 'the', 'head', 'of', 'an', 'investment', 'firm', '.', '[SEP]', 'was', '[SEP]']\n",
      "[101, 1996, 2353, 2001, 2108, 2448, 2011, 1996, 2132, 1997, 2019, 5211, 3813, 1012, 102, 2001, 102]\n"
     ]
    }
   ],
   "source": [
    "tokens = example[\"words\"]\n",
    "predicate = example[\"predicate\"]\n",
    "predicate_index = predicate.index('1') if \"1\" in predicate else None\n",
    "\n",
    "tokenized_input = tokenizer(tokens, [str(tokens[predicate_index])], is_split_into_words=True,  add_special_tokens=True)\n",
    "\n",
    "tokens = tokenizer.convert_ids_to_tokens(tokenized_input[\"input_ids\"])\n",
    "print(tokens)\n",
    "print(tokenized_input[\"input_ids\"])"
   ]
  },
  {
   "cell_type": "markdown",
   "id": "e743080026fbc564",
   "metadata": {},
   "source": [
    "We have tweaked the `tokenize_and_align_labels()` method  to deal with the extra tokens created by the tokenization as shown above. We deal with them in the function below by giving a -100 label value to the extra tokens added like [CLS] and [SEP]; and by taking the first value of a subword, incase the tokenizer creates subwords."
   ]
  },
  {
   "cell_type": "code",
   "execution_count": 87,
   "id": "b7f976d5036e5757",
   "metadata": {
    "ExecuteTime": {
     "end_time": "2025-03-28T11:10:55.109346Z",
     "start_time": "2025-03-28T11:10:55.105204Z"
    }
   },
   "outputs": [],
   "source": [
    "label_all_tokens = True"
   ]
  },
  {
   "cell_type": "code",
   "execution_count": 88,
   "id": "d91b16a7e5c9666b",
   "metadata": {
    "ExecuteTime": {
     "end_time": "2025-03-28T11:15:49.431626Z",
     "start_time": "2025-03-28T11:15:49.421823Z"
    }
   },
   "outputs": [],
   "source": [
    "def tokenize_and_align_labels(examples):\n",
    "    \"\"\"Preprocesses raw text input for SRL task with predicate-aware encoding.\n",
    "    Args:\n",
    "        examples: Batch containing:\n",
    "            - tokens: List of word tokens\n",
    "            - predicate_id: 1-based index of predicate\n",
    "            - arguments: List of argument labels\n",
    "    Returns:\n",
    "        Dictionary with tokenized inputs and aligned labels\n",
    "    \"\"\"\n",
    "    tokenized_inputs = {\n",
    "        \"input_ids\": [],\n",
    "        \"attention_mask\": [],\n",
    "        \"labels\": []\n",
    "    }\n",
    "\n",
    "    for words, pred_id, args in zip(examples[\"words\"], \n",
    "                                  examples[\"predicate\"], \n",
    "                                  examples[\"arguments\"]):\n",
    "        \n",
    "        # Convert 1-based predicate index to 0-based and get predicate word\n",
    "        pred_idx = pred_id.index('1')\n",
    "        predicate_word = words[pred_idx]\n",
    "\n",
    "        # Tokenize with predicate-aware formatting\n",
    "        tokenized = tokenizer(\n",
    "            words, \n",
    "            [predicate_word],  # Add predicate as second sequence\n",
    "            is_split_into_words=True,\n",
    "            add_special_tokens=True,\n",
    "        )\n",
    "\n",
    "        # Align labels with tokenized words\n",
    "        word_ids = tokenized.word_ids()  # Map tokens to original words\n",
    "        aligned_labels = []\n",
    "        previous_word_idx = None\n",
    "        \n",
    "        for word_idx in word_ids:\n",
    "            # Special tokens get -100\n",
    "            if word_idx is None:\n",
    "                aligned_labels.append(-100)\n",
    "            # Only label the first token of each word\n",
    "            elif word_idx != previous_word_idx:\n",
    "                aligned_labels.append(args[word_idx])\n",
    "            else:\n",
    "                aligned_labels.append(args[word_idx] if label_all_tokens else -100)\n",
    "            previous_word_idx = word_idx\n",
    "\n",
    "        tokenized_inputs[\"input_ids\"].append(tokenized[\"input_ids\"])\n",
    "        tokenized_inputs[\"attention_mask\"].append(tokenized[\"attention_mask\"])\n",
    "        tokenized_inputs[\"labels\"].append(aligned_labels)\n",
    "\n",
    "    return tokenized_inputs"
   ]
  },
  {
   "cell_type": "code",
   "execution_count": 29,
   "id": "d752803206370fcf",
   "metadata": {
    "ExecuteTime": {
     "end_time": "2025-03-27T21:14:01.847542Z",
     "start_time": "2025-03-27T21:14:01.842811Z"
    }
   },
   "outputs": [],
   "source": [
    "sentence = [\"Pia\", \"asked\", \"Luis\", \"to\", \"write\", \"this\", \"sentence\", \".\"]\n",
    "predicate_id = 5  # \"write\" (1-based index)\n",
    "arguments = [\"O\", \"O\", \"O\", \"O\", \"V\", \"ARG1\", \"ARG1\", \"O\"]"
   ]
  },
  {
   "cell_type": "markdown",
   "id": "5d4220227f9ade83",
   "metadata": {},
   "source": [
    "We apply the `tokenize_and_align_labels()` function defined above to the entire dataset_dict object by using the map function."
   ]
  },
  {
   "cell_type": "code",
   "execution_count": 89,
   "id": "34ca859b96f61496",
   "metadata": {
    "ExecuteTime": {
     "end_time": "2025-03-28T11:16:03.521937Z",
     "start_time": "2025-03-28T11:15:56.085858Z"
    }
   },
   "outputs": [
    {
     "name": "stderr",
     "output_type": "stream",
     "text": [
      "Map: 100%|██████████| 40396/40396 [00:06<00:00, 5973.30 examples/s]\n",
      "Map: 100%|██████████| 4863/4863 [00:00<00:00, 7443.45 examples/s]\n"
     ]
    }
   ],
   "source": [
    "tokenized_datasets = dataset_dict.map(\n",
    "    tokenize_and_align_labels,\n",
    "    batched=True\n",
    ")"
   ]
  },
  {
   "cell_type": "markdown",
   "id": "539c81b44bd12098",
   "metadata": {},
   "source": [
    "## Remove arguments and argument_ids "
   ]
  },
  {
   "cell_type": "code",
   "execution_count": 90,
   "id": "42d8d2f55bae18cc",
   "metadata": {
    "ExecuteTime": {
     "end_time": "2025-03-28T11:16:33.114314Z",
     "start_time": "2025-03-28T11:16:33.111484Z"
    }
   },
   "outputs": [
    {
     "name": "stdout",
     "output_type": "stream",
     "text": [
      "DatasetDict({\n",
      "    train: Dataset({\n",
      "        features: ['words', 'predicate', 'arguments', 'input_ids', 'attention_mask', 'labels'],\n",
      "        num_rows: 40396\n",
      "    })\n",
      "    test: Dataset({\n",
      "        features: ['words', 'predicate', 'arguments', 'input_ids', 'attention_mask', 'labels'],\n",
      "        num_rows: 4863\n",
      "    })\n",
      "})\n"
     ]
    }
   ],
   "source": [
    "print(tokenized_datasets)"
   ]
  },
  {
   "cell_type": "markdown",
   "id": "ea83b51dfdcc8b62",
   "metadata": {},
   "source": [
    "We need to remove the gold labels \"arguments\" before passing it to the model. "
   ]
  },
  {
   "cell_type": "code",
   "execution_count": 106,
   "id": "b40c54ea7973344b",
   "metadata": {
    "ExecuteTime": {
     "end_time": "2025-03-28T12:51:28.687205Z",
     "start_time": "2025-03-28T12:51:28.680965Z"
    }
   },
   "outputs": [],
   "source": [
    "# Remove 'arguments' column from both train and test sets\n",
    "tokenized_datasets = tokenized_datasets.remove_columns('arguments')"
   ]
  },
  {
   "cell_type": "code",
   "execution_count": 113,
   "id": "d7bb06a21f0a250",
   "metadata": {
    "ExecuteTime": {
     "end_time": "2025-03-28T12:52:37.893930Z",
     "start_time": "2025-03-28T12:52:37.889158Z"
    }
   },
   "outputs": [
    {
     "name": "stdout",
     "output_type": "stream",
     "text": [
      "DatasetDict({\n",
      "    train: Dataset({\n",
      "        features: ['words', 'predicate', 'input_ids', 'attention_mask', 'labels'],\n",
      "        num_rows: 40396\n",
      "    })\n",
      "    test: Dataset({\n",
      "        features: ['words', 'predicate', 'input_ids', 'attention_mask', 'labels'],\n",
      "        num_rows: 4863\n",
      "    })\n",
      "})\n"
     ]
    }
   ],
   "source": [
    "# Verify the columns were removed\n",
    "print(tokenized_datasets)"
   ]
  },
  {
   "cell_type": "markdown",
   "id": "e79896e300c30cfb",
   "metadata": {},
   "source": [
    "An example of the input after tokenization, just before feeding it to the model:"
   ]
  },
  {
   "cell_type": "code",
   "execution_count": 108,
   "id": "4f1b31e62c0723ef",
   "metadata": {
    "ExecuteTime": {
     "end_time": "2025-03-28T12:52:03.843494Z",
     "start_time": "2025-03-28T12:52:03.834490Z"
    }
   },
   "outputs": [
    {
     "data": {
      "text/plain": [
       "{'words': ['[',\n",
       "  'This',\n",
       "  'killing',\n",
       "  'of',\n",
       "  'a',\n",
       "  'respected',\n",
       "  'cleric',\n",
       "  'will',\n",
       "  'be',\n",
       "  'causing',\n",
       "  'us',\n",
       "  'trouble',\n",
       "  'for',\n",
       "  'years',\n",
       "  'to',\n",
       "  'come',\n",
       "  '.',\n",
       "  ']'],\n",
       " 'predicate': ['0',\n",
       "  '0',\n",
       "  '1',\n",
       "  '0',\n",
       "  '0',\n",
       "  '0',\n",
       "  '0',\n",
       "  '0',\n",
       "  '0',\n",
       "  '0',\n",
       "  '0',\n",
       "  '0',\n",
       "  '0',\n",
       "  '0',\n",
       "  '0',\n",
       "  '0',\n",
       "  '0',\n",
       "  '0'],\n",
       " 'input_ids': [101,\n",
       "  1031,\n",
       "  2023,\n",
       "  4288,\n",
       "  1997,\n",
       "  1037,\n",
       "  9768,\n",
       "  29307,\n",
       "  2097,\n",
       "  2022,\n",
       "  4786,\n",
       "  2149,\n",
       "  4390,\n",
       "  2005,\n",
       "  2086,\n",
       "  2000,\n",
       "  2272,\n",
       "  1012,\n",
       "  1033,\n",
       "  102,\n",
       "  4288,\n",
       "  102],\n",
       " 'attention_mask': [1,\n",
       "  1,\n",
       "  1,\n",
       "  1,\n",
       "  1,\n",
       "  1,\n",
       "  1,\n",
       "  1,\n",
       "  1,\n",
       "  1,\n",
       "  1,\n",
       "  1,\n",
       "  1,\n",
       "  1,\n",
       "  1,\n",
       "  1,\n",
       "  1,\n",
       "  1,\n",
       "  1,\n",
       "  1,\n",
       "  1,\n",
       "  1],\n",
       " 'labels': [-100,\n",
       "  45,\n",
       "  45,\n",
       "  59,\n",
       "  45,\n",
       "  45,\n",
       "  45,\n",
       "  1,\n",
       "  45,\n",
       "  45,\n",
       "  45,\n",
       "  45,\n",
       "  45,\n",
       "  45,\n",
       "  45,\n",
       "  45,\n",
       "  45,\n",
       "  45,\n",
       "  45,\n",
       "  -100,\n",
       "  45,\n",
       "  -100]}"
      ]
     },
     "execution_count": 108,
     "metadata": {},
     "output_type": "execute_result"
    }
   ],
   "source": [
    "tokenized_datasets[\"train\"][1]"
   ]
  },
  {
   "cell_type": "markdown",
   "id": "5c854e776c8eef8d",
   "metadata": {},
   "source": [
    "### 4. Fine-tuning the model"
   ]
  },
  {
   "cell_type": "code",
   "execution_count": 109,
   "id": "9d044a2072a94710",
   "metadata": {
    "ExecuteTime": {
     "end_time": "2025-03-28T12:52:06.748042Z",
     "start_time": "2025-03-28T12:52:06.744641Z"
    }
   },
   "outputs": [],
   "source": [
    "import numpy as np"
   ]
  },
  {
   "cell_type": "code",
   "execution_count": 110,
   "id": "60835ac318d2a36e",
   "metadata": {
    "ExecuteTime": {
     "end_time": "2025-03-28T12:52:08.623287Z",
     "start_time": "2025-03-28T12:52:08.439256Z"
    }
   },
   "outputs": [
    {
     "name": "stderr",
     "output_type": "stream",
     "text": [
      "Some weights of DistilBertForTokenClassification were not initialized from the model checkpoint at distilbert-base-uncased and are newly initialized: ['classifier.bias', 'classifier.weight']\n",
      "You should probably TRAIN this model on a down-stream task to be able to use it for predictions and inference.\n"
     ]
    }
   ],
   "source": [
    "from transformers import AutoModelForTokenClassification, TrainingArguments, Trainer\n",
    "\n",
    "model = AutoModelForTokenClassification.from_pretrained(\"distilbert-base-uncased\", num_labels=len(label_list))"
   ]
  },
  {
   "cell_type": "code",
   "execution_count": 111,
   "id": "1d84cbac6947f7b1",
   "metadata": {
    "ExecuteTime": {
     "end_time": "2025-03-28T12:52:24.464211Z",
     "start_time": "2025-03-28T12:52:24.458603Z"
    }
   },
   "outputs": [],
   "source": [
    "from transformers import set_seed\n",
    "\n",
    "# Set random seed!\n",
    "SEED = 0\n",
    "set_seed(SEED)\n",
    "\n",
    "task = \"srl\"\n",
    "batch_size = 16\n",
    "\n",
    "model_name = \"distilbert-base-uncased\"\n",
    "args = TrainingArguments(\n",
    "    f\"{model_name}-finetuned-{task}\",\n",
    "    eval_strategy = \"epoch\",\n",
    "    learning_rate=2e-5,\n",
    "    per_device_train_batch_size=batch_size,\n",
    "    per_device_eval_batch_size=batch_size,\n",
    "    num_train_epochs=1,\n",
    "    weight_decay=0.01,\n",
    "    seed=SEED,\n",
    "    report_to=None,\n",
    ")"
   ]
  },
  {
   "cell_type": "code",
   "execution_count": 114,
   "id": "751eac6bef879e34",
   "metadata": {
    "ExecuteTime": {
     "end_time": "2025-03-28T12:52:47.079826Z",
     "start_time": "2025-03-28T12:52:47.076239Z"
    }
   },
   "outputs": [],
   "source": [
    "from transformers import DataCollatorForTokenClassification\n",
    "\n",
    "data_collator = DataCollatorForTokenClassification(tokenizer)"
   ]
  },
  {
   "cell_type": "code",
   "execution_count": 115,
   "id": "902d9e6a18c9d06a",
   "metadata": {
    "ExecuteTime": {
     "end_time": "2025-03-28T12:52:49.621693Z",
     "start_time": "2025-03-28T12:52:48.755512Z"
    }
   },
   "outputs": [],
   "source": [
    "from evaluate import load\n",
    "\n",
    "metric = load(\"seqeval\")"
   ]
  },
  {
   "cell_type": "code",
   "execution_count": 116,
   "id": "3c34467be146d6c6",
   "metadata": {
    "ExecuteTime": {
     "end_time": "2025-03-28T12:52:57.216237Z",
     "start_time": "2025-03-28T12:52:57.207211Z"
    }
   },
   "outputs": [],
   "source": [
    "def compute_metrics(p):\n",
    "    predictions, labels = p\n",
    "    predictions = np.argmax(predictions, axis=2)\n",
    "\n",
    "    # Remove ignored index (special tokens)\n",
    "    true_predictions = [\n",
    "        [label_list[p] for (p, l) in zip(prediction, label) if l != -100]\n",
    "        for prediction, label in zip(predictions, labels)\n",
    "    ]\n",
    "    true_labels = [\n",
    "        [label_list[l] for (p, l) in zip(prediction, label) if l != -100]\n",
    "        for prediction, label in zip(predictions, labels)\n",
    "    ]\n",
    "\n",
    "    results = metric.compute(predictions=true_predictions, references=true_labels)\n",
    "    return {\n",
    "        \"precision\": results[\"overall_precision\"],\n",
    "        \"recall\": results[\"overall_recall\"],\n",
    "        \"f1\": results[\"overall_f1\"],\n",
    "        \"accuracy\": results[\"overall_accuracy\"],\n",
    "    }"
   ]
  },
  {
   "cell_type": "code",
   "execution_count": 117,
   "id": "c7d8b5de3293ddfd",
   "metadata": {
    "ExecuteTime": {
     "end_time": "2025-03-28T12:53:00.511817Z",
     "start_time": "2025-03-28T12:53:00.504132Z"
    }
   },
   "outputs": [
    {
     "name": "stderr",
     "output_type": "stream",
     "text": [
      "/tmp/ipykernel_249183/1234220955.py:1: FutureWarning: `tokenizer` is deprecated and will be removed in version 5.0.0 for `Trainer.__init__`. Use `processing_class` instead.\n",
      "  trainer = Trainer(\n"
     ]
    }
   ],
   "source": [
    "trainer = Trainer(\n",
    "    model,\n",
    "    args,\n",
    "    train_dataset=tokenized_datasets[\"train\"],\n",
    "    eval_dataset=tokenized_datasets[\"test\"],\n",
    "    data_collator=data_collator,\n",
    "    tokenizer=tokenizer,\n",
    "    compute_metrics=compute_metrics\n",
    ")"
   ]
  },
  {
   "cell_type": "markdown",
   "id": "c2d98c99e44eef88",
   "metadata": {},
   "source": [
    "### Training the model"
   ]
  },
  {
   "cell_type": "code",
   "execution_count": 118,
   "id": "ffa2f5a42a69e2ce",
   "metadata": {
    "ExecuteTime": {
     "end_time": "2025-03-28T13:44:40.453832Z",
     "start_time": "2025-03-28T12:53:03.593295Z"
    }
   },
   "outputs": [
    {
     "data": {
      "text/html": [
       "\n",
       "    <div>\n",
       "      \n",
       "      <progress value='2525' max='2525' style='width:300px; height:20px; vertical-align: middle;'></progress>\n",
       "      [2525/2525 51:35, Epoch 1/1]\n",
       "    </div>\n",
       "    <table border=\"1\" class=\"dataframe\">\n",
       "  <thead>\n",
       " <tr style=\"text-align: left;\">\n",
       "      <th>Epoch</th>\n",
       "      <th>Training Loss</th>\n",
       "      <th>Validation Loss</th>\n",
       "      <th>Precision</th>\n",
       "      <th>Recall</th>\n",
       "      <th>F1</th>\n",
       "      <th>Accuracy</th>\n",
       "    </tr>\n",
       "  </thead>\n",
       "  <tbody>\n",
       "    <tr>\n",
       "      <td>1</td>\n",
       "      <td>0.148900</td>\n",
       "      <td>0.169344</td>\n",
       "      <td>0.730130</td>\n",
       "      <td>0.719402</td>\n",
       "      <td>0.724726</td>\n",
       "      <td>0.955446</td>\n",
       "    </tr>\n",
       "  </tbody>\n",
       "</table><p>"
      ],
      "text/plain": [
       "<IPython.core.display.HTML object>"
      ]
     },
     "metadata": {},
     "output_type": "display_data"
    },
    {
     "name": "stderr",
     "output_type": "stream",
     "text": [
      "/home/nishit/personal/advanced_nlp/.venv/lib/python3.12/site-packages/seqeval/metrics/sequence_labeling.py:171: UserWarning: ARG1 seems not to be NE tag.\n",
      "  warnings.warn('{} seems not to be NE tag.'.format(chunk))\n",
      "/home/nishit/personal/advanced_nlp/.venv/lib/python3.12/site-packages/seqeval/metrics/sequence_labeling.py:171: UserWarning: V seems not to be NE tag.\n",
      "  warnings.warn('{} seems not to be NE tag.'.format(chunk))\n",
      "/home/nishit/personal/advanced_nlp/.venv/lib/python3.12/site-packages/seqeval/metrics/sequence_labeling.py:171: UserWarning: ARG2 seems not to be NE tag.\n",
      "  warnings.warn('{} seems not to be NE tag.'.format(chunk))\n",
      "/home/nishit/personal/advanced_nlp/.venv/lib/python3.12/site-packages/seqeval/metrics/sequence_labeling.py:171: UserWarning: ARG0 seems not to be NE tag.\n",
      "  warnings.warn('{} seems not to be NE tag.'.format(chunk))\n",
      "/home/nishit/personal/advanced_nlp/.venv/lib/python3.12/site-packages/seqeval/metrics/sequence_labeling.py:171: UserWarning: ARG4 seems not to be NE tag.\n",
      "  warnings.warn('{} seems not to be NE tag.'.format(chunk))\n",
      "/home/nishit/personal/advanced_nlp/.venv/lib/python3.12/site-packages/seqeval/metrics/sequence_labeling.py:171: UserWarning: ARGM-DIS seems not to be NE tag.\n",
      "  warnings.warn('{} seems not to be NE tag.'.format(chunk))\n",
      "/home/nishit/personal/advanced_nlp/.venv/lib/python3.12/site-packages/seqeval/metrics/sequence_labeling.py:171: UserWarning: ARGM-TMP seems not to be NE tag.\n",
      "  warnings.warn('{} seems not to be NE tag.'.format(chunk))\n",
      "/home/nishit/personal/advanced_nlp/.venv/lib/python3.12/site-packages/seqeval/metrics/sequence_labeling.py:171: UserWarning: R-ARGM-TMP seems not to be NE tag.\n",
      "  warnings.warn('{} seems not to be NE tag.'.format(chunk))\n",
      "/home/nishit/personal/advanced_nlp/.venv/lib/python3.12/site-packages/seqeval/metrics/sequence_labeling.py:171: UserWarning: ARGM-MOD seems not to be NE tag.\n",
      "  warnings.warn('{} seems not to be NE tag.'.format(chunk))\n",
      "/home/nishit/personal/advanced_nlp/.venv/lib/python3.12/site-packages/seqeval/metrics/sequence_labeling.py:171: UserWarning: ARGM-ADV seems not to be NE tag.\n",
      "  warnings.warn('{} seems not to be NE tag.'.format(chunk))\n",
      "/home/nishit/personal/advanced_nlp/.venv/lib/python3.12/site-packages/seqeval/metrics/sequence_labeling.py:171: UserWarning: ARGM-LOC seems not to be NE tag.\n",
      "  warnings.warn('{} seems not to be NE tag.'.format(chunk))\n",
      "/home/nishit/personal/advanced_nlp/.venv/lib/python3.12/site-packages/seqeval/metrics/sequence_labeling.py:171: UserWarning: ARG3 seems not to be NE tag.\n",
      "  warnings.warn('{} seems not to be NE tag.'.format(chunk))\n",
      "/home/nishit/personal/advanced_nlp/.venv/lib/python3.12/site-packages/seqeval/metrics/sequence_labeling.py:171: UserWarning: R-ARG0 seems not to be NE tag.\n",
      "  warnings.warn('{} seems not to be NE tag.'.format(chunk))\n",
      "/home/nishit/personal/advanced_nlp/.venv/lib/python3.12/site-packages/seqeval/metrics/sequence_labeling.py:171: UserWarning: ARGM-NEG seems not to be NE tag.\n",
      "  warnings.warn('{} seems not to be NE tag.'.format(chunk))\n",
      "/home/nishit/personal/advanced_nlp/.venv/lib/python3.12/site-packages/seqeval/metrics/sequence_labeling.py:171: UserWarning: ARGM-ADJ seems not to be NE tag.\n",
      "  warnings.warn('{} seems not to be NE tag.'.format(chunk))\n",
      "/home/nishit/personal/advanced_nlp/.venv/lib/python3.12/site-packages/seqeval/metrics/sequence_labeling.py:171: UserWarning: ARGM-GOL seems not to be NE tag.\n",
      "  warnings.warn('{} seems not to be NE tag.'.format(chunk))\n",
      "/home/nishit/personal/advanced_nlp/.venv/lib/python3.12/site-packages/seqeval/metrics/sequence_labeling.py:171: UserWarning: ARGM-PRP seems not to be NE tag.\n",
      "  warnings.warn('{} seems not to be NE tag.'.format(chunk))\n",
      "/home/nishit/personal/advanced_nlp/.venv/lib/python3.12/site-packages/seqeval/metrics/sequence_labeling.py:171: UserWarning: ARGM-PRR seems not to be NE tag.\n",
      "  warnings.warn('{} seems not to be NE tag.'.format(chunk))\n",
      "/home/nishit/personal/advanced_nlp/.venv/lib/python3.12/site-packages/seqeval/metrics/sequence_labeling.py:171: UserWarning: ARGM-LVB seems not to be NE tag.\n",
      "  warnings.warn('{} seems not to be NE tag.'.format(chunk))\n",
      "/home/nishit/personal/advanced_nlp/.venv/lib/python3.12/site-packages/seqeval/metrics/sequence_labeling.py:171: UserWarning: R-ARG1 seems not to be NE tag.\n",
      "  warnings.warn('{} seems not to be NE tag.'.format(chunk))\n",
      "/home/nishit/personal/advanced_nlp/.venv/lib/python3.12/site-packages/seqeval/metrics/sequence_labeling.py:171: UserWarning: ARGM-PRD seems not to be NE tag.\n",
      "  warnings.warn('{} seems not to be NE tag.'.format(chunk))\n",
      "/home/nishit/personal/advanced_nlp/.venv/lib/python3.12/site-packages/seqeval/metrics/sequence_labeling.py:171: UserWarning: ARGM-MNR seems not to be NE tag.\n",
      "  warnings.warn('{} seems not to be NE tag.'.format(chunk))\n",
      "/home/nishit/personal/advanced_nlp/.venv/lib/python3.12/site-packages/seqeval/metrics/sequence_labeling.py:171: UserWarning: C-ARG1 seems not to be NE tag.\n",
      "  warnings.warn('{} seems not to be NE tag.'.format(chunk))\n",
      "/home/nishit/personal/advanced_nlp/.venv/lib/python3.12/site-packages/seqeval/metrics/sequence_labeling.py:171: UserWarning: ARGM-CAU seems not to be NE tag.\n",
      "  warnings.warn('{} seems not to be NE tag.'.format(chunk))\n",
      "/home/nishit/personal/advanced_nlp/.venv/lib/python3.12/site-packages/seqeval/metrics/sequence_labeling.py:171: UserWarning: ARGM-EXT seems not to be NE tag.\n",
      "  warnings.warn('{} seems not to be NE tag.'.format(chunk))\n",
      "/home/nishit/personal/advanced_nlp/.venv/lib/python3.12/site-packages/seqeval/metrics/sequence_labeling.py:171: UserWarning: R-ARGM-MNR seems not to be NE tag.\n",
      "  warnings.warn('{} seems not to be NE tag.'.format(chunk))\n",
      "/home/nishit/personal/advanced_nlp/.venv/lib/python3.12/site-packages/seqeval/metrics/sequence_labeling.py:171: UserWarning: R-ARGM-LOC seems not to be NE tag.\n",
      "  warnings.warn('{} seems not to be NE tag.'.format(chunk))\n",
      "/home/nishit/personal/advanced_nlp/.venv/lib/python3.12/site-packages/seqeval/metrics/sequence_labeling.py:171: UserWarning: C-V seems not to be NE tag.\n",
      "  warnings.warn('{} seems not to be NE tag.'.format(chunk))\n",
      "/home/nishit/personal/advanced_nlp/.venv/lib/python3.12/site-packages/seqeval/metrics/sequence_labeling.py:171: UserWarning: ARGM-COM seems not to be NE tag.\n",
      "  warnings.warn('{} seems not to be NE tag.'.format(chunk))\n",
      "/home/nishit/personal/advanced_nlp/.venv/lib/python3.12/site-packages/seqeval/metrics/sequence_labeling.py:171: UserWarning: ARGM-CXN seems not to be NE tag.\n",
      "  warnings.warn('{} seems not to be NE tag.'.format(chunk))\n",
      "/home/nishit/personal/advanced_nlp/.venv/lib/python3.12/site-packages/seqeval/metrics/sequence_labeling.py:171: UserWarning: C-ARGM-CXN seems not to be NE tag.\n",
      "  warnings.warn('{} seems not to be NE tag.'.format(chunk))\n",
      "/home/nishit/personal/advanced_nlp/.venv/lib/python3.12/site-packages/seqeval/metrics/sequence_labeling.py:171: UserWarning: ARGM-DIR seems not to be NE tag.\n",
      "  warnings.warn('{} seems not to be NE tag.'.format(chunk))\n",
      "/home/nishit/personal/advanced_nlp/.venv/lib/python3.12/site-packages/seqeval/metrics/sequence_labeling.py:171: UserWarning: C-ARG3 seems not to be NE tag.\n",
      "  warnings.warn('{} seems not to be NE tag.'.format(chunk))\n",
      "/home/nishit/personal/advanced_nlp/.venv/lib/python3.12/site-packages/seqeval/metrics/sequence_labeling.py:171: UserWarning: ARG5 seems not to be NE tag.\n",
      "  warnings.warn('{} seems not to be NE tag.'.format(chunk))\n",
      "/home/nishit/personal/advanced_nlp/.venv/lib/python3.12/site-packages/seqeval/metrics/sequence_labeling.py:171: UserWarning: R-ARG2 seems not to be NE tag.\n",
      "  warnings.warn('{} seems not to be NE tag.'.format(chunk))\n",
      "/home/nishit/personal/advanced_nlp/.venv/lib/python3.12/site-packages/seqeval/metrics/sequence_labeling.py:171: UserWarning: R-ARGM-ADV seems not to be NE tag.\n",
      "  warnings.warn('{} seems not to be NE tag.'.format(chunk))\n",
      "/home/nishit/personal/advanced_nlp/.venv/lib/python3.12/site-packages/seqeval/metrics/sequence_labeling.py:171: UserWarning: R-ARGM-DIR seems not to be NE tag.\n",
      "  warnings.warn('{} seems not to be NE tag.'.format(chunk))\n",
      "/home/nishit/personal/advanced_nlp/.venv/lib/python3.12/site-packages/seqeval/metrics/sequence_labeling.py:171: UserWarning: C-ARG0 seems not to be NE tag.\n",
      "  warnings.warn('{} seems not to be NE tag.'.format(chunk))\n",
      "/home/nishit/personal/advanced_nlp/.venv/lib/python3.12/site-packages/seqeval/metrics/sequence_labeling.py:171: UserWarning: C-ARG2 seems not to be NE tag.\n",
      "  warnings.warn('{} seems not to be NE tag.'.format(chunk))\n",
      "/home/nishit/personal/advanced_nlp/.venv/lib/python3.12/site-packages/seqeval/metrics/sequence_labeling.py:171: UserWarning: ARG1-DSP seems not to be NE tag.\n",
      "  warnings.warn('{} seems not to be NE tag.'.format(chunk))\n",
      "/home/nishit/personal/advanced_nlp/.venv/lib/python3.12/site-packages/seqeval/metrics/sequence_labeling.py:171: UserWarning: C-ARG1-DSP seems not to be NE tag.\n",
      "  warnings.warn('{} seems not to be NE tag.'.format(chunk))\n",
      "/home/nishit/personal/advanced_nlp/.venv/lib/python3.12/site-packages/seqeval/metrics/sequence_labeling.py:171: UserWarning: C-ARGM-LOC seems not to be NE tag.\n",
      "  warnings.warn('{} seems not to be NE tag.'.format(chunk))\n",
      "/home/nishit/personal/advanced_nlp/.venv/lib/python3.12/site-packages/seqeval/metrics/sequence_labeling.py:171: UserWarning: ARGA seems not to be NE tag.\n",
      "  warnings.warn('{} seems not to be NE tag.'.format(chunk))\n",
      "/home/nishit/personal/advanced_nlp/.venv/lib/python3.12/site-packages/seqeval/metrics/v1.py:57: UndefinedMetricWarning: Precision and F-score are ill-defined and being set to 0.0 in labels with no predicted samples. Use `zero_division` parameter to control this behavior.\n",
      "  _warn_prf(average, modifier, msg_start, len(result))\n"
     ]
    },
    {
     "data": {
      "text/plain": [
       "TrainOutput(global_step=2525, training_loss=0.22696552880919807, metrics={'train_runtime': 3096.6705, 'train_samples_per_second': 13.045, 'train_steps_per_second': 0.815, 'total_flos': 727719278473440.0, 'train_loss': 0.22696552880919807, 'epoch': 1.0})"
      ]
     },
     "execution_count": 118,
     "metadata": {},
     "output_type": "execute_result"
    }
   ],
   "source": [
    "trainer.train()"
   ]
  },
  {
   "cell_type": "markdown",
   "id": "977692e88e1842ca",
   "metadata": {},
   "source": [
    "The below evaluation is with the extra tokens and subwords added and not very relevant to our task."
   ]
  },
  {
   "cell_type": "code",
   "execution_count": 119,
   "id": "f90d37db7d19f58f",
   "metadata": {
    "ExecuteTime": {
     "end_time": "2025-03-28T13:46:00.356591Z",
     "start_time": "2025-03-28T13:44:49.955132Z"
    }
   },
   "outputs": [
    {
     "data": {
      "text/html": [],
      "text/plain": [
       "<IPython.core.display.HTML object>"
      ]
     },
     "metadata": {},
     "output_type": "display_data"
    },
    {
     "data": {
      "text/plain": [
       "{'eval_loss': 0.16934414207935333,\n",
       " 'eval_precision': 0.7301303804250759,\n",
       " 'eval_recall': 0.7194016717993841,\n",
       " 'eval_f1': 0.7247263218543635,\n",
       " 'eval_accuracy': 0.9554464293313134,\n",
       " 'eval_runtime': 70.3962,\n",
       " 'eval_samples_per_second': 69.08,\n",
       " 'eval_steps_per_second': 4.318,\n",
       " 'epoch': 1.0}"
      ]
     },
     "execution_count": 119,
     "metadata": {},
     "output_type": "execute_result"
    }
   ],
   "source": [
    "trainer.evaluate()"
   ]
  },
  {
   "cell_type": "markdown",
   "id": "f2f9daa856733674",
   "metadata": {},
   "source": [
    "### Saving the Model"
   ]
  },
  {
   "cell_type": "code",
   "execution_count": 122,
   "id": "a48256929048e51e",
   "metadata": {
    "ExecuteTime": {
     "end_time": "2025-03-28T15:48:27.565977Z",
     "start_time": "2025-03-28T15:48:27.303511Z"
    }
   },
   "outputs": [
    {
     "data": {
      "text/plain": [
       "('model/tokenizer_config.json',\n",
       " 'model/special_tokens_map.json',\n",
       " 'model/vocab.txt',\n",
       " 'model/added_tokens.json',\n",
       " 'model/tokenizer.json')"
      ]
     },
     "execution_count": 122,
     "metadata": {},
     "output_type": "execute_result"
    }
   ],
   "source": [
    "# Save the model and tokenizer\n",
    "model_save_path = \"model\"\n",
    "trainer.save_model(model_save_path)\n",
    "tokenizer.save_pretrained(model_save_path)"
   ]
  },
  {
   "cell_type": "markdown",
   "id": "f9c698bf6628af2",
   "metadata": {},
   "source": [
    "## Post-process the output"
   ]
  },
  {
   "cell_type": "code",
   "execution_count": 127,
   "id": "1e10948364f8aedf",
   "metadata": {
    "ExecuteTime": {
     "end_time": "2025-03-28T18:08:58.630468Z",
     "start_time": "2025-03-28T18:07:33.875725Z"
    }
   },
   "outputs": [
    {
     "data": {
      "text/html": [],
      "text/plain": [
       "<IPython.core.display.HTML object>"
      ]
     },
     "metadata": {},
     "output_type": "display_data"
    },
    {
     "name": "stderr",
     "output_type": "stream",
     "text": [
      "/home/nishit/personal/advanced_nlp/.venv/lib/python3.12/site-packages/seqeval/metrics/sequence_labeling.py:171: UserWarning: ARG1 seems not to be NE tag.\n",
      "  warnings.warn('{} seems not to be NE tag.'.format(chunk))\n",
      "/home/nishit/personal/advanced_nlp/.venv/lib/python3.12/site-packages/seqeval/metrics/sequence_labeling.py:171: UserWarning: V seems not to be NE tag.\n",
      "  warnings.warn('{} seems not to be NE tag.'.format(chunk))\n",
      "/home/nishit/personal/advanced_nlp/.venv/lib/python3.12/site-packages/seqeval/metrics/sequence_labeling.py:171: UserWarning: ARG2 seems not to be NE tag.\n",
      "  warnings.warn('{} seems not to be NE tag.'.format(chunk))\n",
      "/home/nishit/personal/advanced_nlp/.venv/lib/python3.12/site-packages/seqeval/metrics/sequence_labeling.py:171: UserWarning: ARG0 seems not to be NE tag.\n",
      "  warnings.warn('{} seems not to be NE tag.'.format(chunk))\n",
      "/home/nishit/personal/advanced_nlp/.venv/lib/python3.12/site-packages/seqeval/metrics/sequence_labeling.py:171: UserWarning: ARG4 seems not to be NE tag.\n",
      "  warnings.warn('{} seems not to be NE tag.'.format(chunk))\n",
      "/home/nishit/personal/advanced_nlp/.venv/lib/python3.12/site-packages/seqeval/metrics/sequence_labeling.py:171: UserWarning: ARGM-DIS seems not to be NE tag.\n",
      "  warnings.warn('{} seems not to be NE tag.'.format(chunk))\n",
      "/home/nishit/personal/advanced_nlp/.venv/lib/python3.12/site-packages/seqeval/metrics/sequence_labeling.py:171: UserWarning: ARGM-TMP seems not to be NE tag.\n",
      "  warnings.warn('{} seems not to be NE tag.'.format(chunk))\n",
      "/home/nishit/personal/advanced_nlp/.venv/lib/python3.12/site-packages/seqeval/metrics/sequence_labeling.py:171: UserWarning: R-ARGM-TMP seems not to be NE tag.\n",
      "  warnings.warn('{} seems not to be NE tag.'.format(chunk))\n",
      "/home/nishit/personal/advanced_nlp/.venv/lib/python3.12/site-packages/seqeval/metrics/sequence_labeling.py:171: UserWarning: ARGM-MOD seems not to be NE tag.\n",
      "  warnings.warn('{} seems not to be NE tag.'.format(chunk))\n",
      "/home/nishit/personal/advanced_nlp/.venv/lib/python3.12/site-packages/seqeval/metrics/sequence_labeling.py:171: UserWarning: ARGM-ADV seems not to be NE tag.\n",
      "  warnings.warn('{} seems not to be NE tag.'.format(chunk))\n",
      "/home/nishit/personal/advanced_nlp/.venv/lib/python3.12/site-packages/seqeval/metrics/sequence_labeling.py:171: UserWarning: ARGM-LOC seems not to be NE tag.\n",
      "  warnings.warn('{} seems not to be NE tag.'.format(chunk))\n",
      "/home/nishit/personal/advanced_nlp/.venv/lib/python3.12/site-packages/seqeval/metrics/sequence_labeling.py:171: UserWarning: ARG3 seems not to be NE tag.\n",
      "  warnings.warn('{} seems not to be NE tag.'.format(chunk))\n",
      "/home/nishit/personal/advanced_nlp/.venv/lib/python3.12/site-packages/seqeval/metrics/sequence_labeling.py:171: UserWarning: R-ARG0 seems not to be NE tag.\n",
      "  warnings.warn('{} seems not to be NE tag.'.format(chunk))\n",
      "/home/nishit/personal/advanced_nlp/.venv/lib/python3.12/site-packages/seqeval/metrics/sequence_labeling.py:171: UserWarning: ARGM-NEG seems not to be NE tag.\n",
      "  warnings.warn('{} seems not to be NE tag.'.format(chunk))\n",
      "/home/nishit/personal/advanced_nlp/.venv/lib/python3.12/site-packages/seqeval/metrics/sequence_labeling.py:171: UserWarning: ARGM-ADJ seems not to be NE tag.\n",
      "  warnings.warn('{} seems not to be NE tag.'.format(chunk))\n",
      "/home/nishit/personal/advanced_nlp/.venv/lib/python3.12/site-packages/seqeval/metrics/sequence_labeling.py:171: UserWarning: ARGM-GOL seems not to be NE tag.\n",
      "  warnings.warn('{} seems not to be NE tag.'.format(chunk))\n",
      "/home/nishit/personal/advanced_nlp/.venv/lib/python3.12/site-packages/seqeval/metrics/sequence_labeling.py:171: UserWarning: ARGM-PRP seems not to be NE tag.\n",
      "  warnings.warn('{} seems not to be NE tag.'.format(chunk))\n",
      "/home/nishit/personal/advanced_nlp/.venv/lib/python3.12/site-packages/seqeval/metrics/sequence_labeling.py:171: UserWarning: ARGM-PRR seems not to be NE tag.\n",
      "  warnings.warn('{} seems not to be NE tag.'.format(chunk))\n",
      "/home/nishit/personal/advanced_nlp/.venv/lib/python3.12/site-packages/seqeval/metrics/sequence_labeling.py:171: UserWarning: ARGM-LVB seems not to be NE tag.\n",
      "  warnings.warn('{} seems not to be NE tag.'.format(chunk))\n",
      "/home/nishit/personal/advanced_nlp/.venv/lib/python3.12/site-packages/seqeval/metrics/sequence_labeling.py:171: UserWarning: R-ARG1 seems not to be NE tag.\n",
      "  warnings.warn('{} seems not to be NE tag.'.format(chunk))\n",
      "/home/nishit/personal/advanced_nlp/.venv/lib/python3.12/site-packages/seqeval/metrics/sequence_labeling.py:171: UserWarning: ARGM-PRD seems not to be NE tag.\n",
      "  warnings.warn('{} seems not to be NE tag.'.format(chunk))\n",
      "/home/nishit/personal/advanced_nlp/.venv/lib/python3.12/site-packages/seqeval/metrics/sequence_labeling.py:171: UserWarning: ARGM-MNR seems not to be NE tag.\n",
      "  warnings.warn('{} seems not to be NE tag.'.format(chunk))\n",
      "/home/nishit/personal/advanced_nlp/.venv/lib/python3.12/site-packages/seqeval/metrics/sequence_labeling.py:171: UserWarning: C-ARG1 seems not to be NE tag.\n",
      "  warnings.warn('{} seems not to be NE tag.'.format(chunk))\n",
      "/home/nishit/personal/advanced_nlp/.venv/lib/python3.12/site-packages/seqeval/metrics/sequence_labeling.py:171: UserWarning: ARGM-CAU seems not to be NE tag.\n",
      "  warnings.warn('{} seems not to be NE tag.'.format(chunk))\n",
      "/home/nishit/personal/advanced_nlp/.venv/lib/python3.12/site-packages/seqeval/metrics/sequence_labeling.py:171: UserWarning: ARGM-EXT seems not to be NE tag.\n",
      "  warnings.warn('{} seems not to be NE tag.'.format(chunk))\n",
      "/home/nishit/personal/advanced_nlp/.venv/lib/python3.12/site-packages/seqeval/metrics/sequence_labeling.py:171: UserWarning: R-ARGM-MNR seems not to be NE tag.\n",
      "  warnings.warn('{} seems not to be NE tag.'.format(chunk))\n",
      "/home/nishit/personal/advanced_nlp/.venv/lib/python3.12/site-packages/seqeval/metrics/sequence_labeling.py:171: UserWarning: R-ARGM-LOC seems not to be NE tag.\n",
      "  warnings.warn('{} seems not to be NE tag.'.format(chunk))\n",
      "/home/nishit/personal/advanced_nlp/.venv/lib/python3.12/site-packages/seqeval/metrics/sequence_labeling.py:171: UserWarning: C-V seems not to be NE tag.\n",
      "  warnings.warn('{} seems not to be NE tag.'.format(chunk))\n",
      "/home/nishit/personal/advanced_nlp/.venv/lib/python3.12/site-packages/seqeval/metrics/sequence_labeling.py:171: UserWarning: ARGM-COM seems not to be NE tag.\n",
      "  warnings.warn('{} seems not to be NE tag.'.format(chunk))\n",
      "/home/nishit/personal/advanced_nlp/.venv/lib/python3.12/site-packages/seqeval/metrics/sequence_labeling.py:171: UserWarning: ARGM-CXN seems not to be NE tag.\n",
      "  warnings.warn('{} seems not to be NE tag.'.format(chunk))\n",
      "/home/nishit/personal/advanced_nlp/.venv/lib/python3.12/site-packages/seqeval/metrics/sequence_labeling.py:171: UserWarning: C-ARGM-CXN seems not to be NE tag.\n",
      "  warnings.warn('{} seems not to be NE tag.'.format(chunk))\n",
      "/home/nishit/personal/advanced_nlp/.venv/lib/python3.12/site-packages/seqeval/metrics/sequence_labeling.py:171: UserWarning: ARGM-DIR seems not to be NE tag.\n",
      "  warnings.warn('{} seems not to be NE tag.'.format(chunk))\n",
      "/home/nishit/personal/advanced_nlp/.venv/lib/python3.12/site-packages/seqeval/metrics/sequence_labeling.py:171: UserWarning: C-ARG3 seems not to be NE tag.\n",
      "  warnings.warn('{} seems not to be NE tag.'.format(chunk))\n",
      "/home/nishit/personal/advanced_nlp/.venv/lib/python3.12/site-packages/seqeval/metrics/sequence_labeling.py:171: UserWarning: ARG5 seems not to be NE tag.\n",
      "  warnings.warn('{} seems not to be NE tag.'.format(chunk))\n",
      "/home/nishit/personal/advanced_nlp/.venv/lib/python3.12/site-packages/seqeval/metrics/sequence_labeling.py:171: UserWarning: R-ARG2 seems not to be NE tag.\n",
      "  warnings.warn('{} seems not to be NE tag.'.format(chunk))\n",
      "/home/nishit/personal/advanced_nlp/.venv/lib/python3.12/site-packages/seqeval/metrics/sequence_labeling.py:171: UserWarning: R-ARGM-ADV seems not to be NE tag.\n",
      "  warnings.warn('{} seems not to be NE tag.'.format(chunk))\n",
      "/home/nishit/personal/advanced_nlp/.venv/lib/python3.12/site-packages/seqeval/metrics/sequence_labeling.py:171: UserWarning: R-ARGM-DIR seems not to be NE tag.\n",
      "  warnings.warn('{} seems not to be NE tag.'.format(chunk))\n",
      "/home/nishit/personal/advanced_nlp/.venv/lib/python3.12/site-packages/seqeval/metrics/sequence_labeling.py:171: UserWarning: C-ARG0 seems not to be NE tag.\n",
      "  warnings.warn('{} seems not to be NE tag.'.format(chunk))\n",
      "/home/nishit/personal/advanced_nlp/.venv/lib/python3.12/site-packages/seqeval/metrics/sequence_labeling.py:171: UserWarning: C-ARG2 seems not to be NE tag.\n",
      "  warnings.warn('{} seems not to be NE tag.'.format(chunk))\n",
      "/home/nishit/personal/advanced_nlp/.venv/lib/python3.12/site-packages/seqeval/metrics/sequence_labeling.py:171: UserWarning: ARG1-DSP seems not to be NE tag.\n",
      "  warnings.warn('{} seems not to be NE tag.'.format(chunk))\n",
      "/home/nishit/personal/advanced_nlp/.venv/lib/python3.12/site-packages/seqeval/metrics/sequence_labeling.py:171: UserWarning: C-ARG1-DSP seems not to be NE tag.\n",
      "  warnings.warn('{} seems not to be NE tag.'.format(chunk))\n",
      "/home/nishit/personal/advanced_nlp/.venv/lib/python3.12/site-packages/seqeval/metrics/sequence_labeling.py:171: UserWarning: C-ARGM-LOC seems not to be NE tag.\n",
      "  warnings.warn('{} seems not to be NE tag.'.format(chunk))\n",
      "/home/nishit/personal/advanced_nlp/.venv/lib/python3.12/site-packages/seqeval/metrics/sequence_labeling.py:171: UserWarning: ARGA seems not to be NE tag.\n",
      "  warnings.warn('{} seems not to be NE tag.'.format(chunk))\n",
      "/home/nishit/personal/advanced_nlp/.venv/lib/python3.12/site-packages/seqeval/metrics/v1.py:57: UndefinedMetricWarning: Precision and F-score are ill-defined and being set to 0.0 in labels with no predicted samples. Use `zero_division` parameter to control this behavior.\n",
      "  _warn_prf(average, modifier, msg_start, len(result))\n"
     ]
    }
   ],
   "source": [
    "# Get raw predictions\n",
    "predictions, labels, _ = trainer.predict(tokenized_datasets[\"test\"])"
   ]
  },
  {
   "cell_type": "code",
   "execution_count": 131,
   "id": "cddd4c373467f705",
   "metadata": {
    "ExecuteTime": {
     "end_time": "2025-03-28T18:13:37.923487Z",
     "start_time": "2025-03-28T18:13:37.917553Z"
    }
   },
   "outputs": [
    {
     "name": "stdout",
     "output_type": "stream",
     "text": [
      "(4863, 97, 60)\n"
     ]
    }
   ],
   "source": [
    "print(predictions.shape)"
   ]
  },
  {
   "cell_type": "code",
   "execution_count": 132,
   "id": "f6bbd7a7c0ced3ed",
   "metadata": {
    "ExecuteTime": {
     "end_time": "2025-03-28T18:14:09.626455Z",
     "start_time": "2025-03-28T18:14:09.621118Z"
    }
   },
   "outputs": [
    {
     "name": "stdout",
     "output_type": "stream",
     "text": [
      "(4863, 97)\n"
     ]
    }
   ],
   "source": [
    "print(labels.shape)"
   ]
  },
  {
   "cell_type": "markdown",
   "id": "2910091d01406d65",
   "metadata": {},
   "source": [
    "The below function `align_predictions_to_words()` deals with Post-processing the output from the model. For each example in the dataset, it first retrieves the original words and their count. Using the tokenizer, it generates word IDs that map each subword token back to its original word index. The function then processes these word IDs to ensure only the first subword of each original word is considered, skipping special tokens like [CLS] and [SEP]. Predictions and labels are collected for these first subwords, with padding and ignored labels (-100) filtered out for the gold labels. Finally, the results are trimmed to the original sentence length to remove any concatenated predicate tokens added during preprocessing. This ensures the output predictions and labels perfectly match the original word sequence, maintaining a one-to-one correspondence between words and their predicted/gold labels while handling all the complexities of subword tokenization. The function also includes validation checks to confirm the aligned predictions and labels have matching lengths for each sentence."
   ]
  },
  {
   "cell_type": "code",
   "execution_count": 133,
   "id": "2c907c495382eed",
   "metadata": {
    "ExecuteTime": {
     "end_time": "2025-03-28T18:37:10.932723Z",
     "start_time": "2025-03-28T18:37:09.403434Z"
    }
   },
   "outputs": [],
   "source": [
    "def align_predictions_to_words(predictions, labels, dataset, tokenizer, label_list):\n",
    "    \"\"\"\n",
    "    Aligns subword predictions to original words and removes special tokens and concatenated predicate.\n",
    "    \n",
    "    Args:\n",
    "        predictions: Model predictions (logits) with shape (num_examples, max_seq_len, num_labels)\n",
    "        labels: Gold labels with shape (num_examples, max_seq_len)\n",
    "        dataset: Original tokenized dataset (must contain \"words\" field)\n",
    "        tokenizer: Model tokenizer\n",
    "        label_list: List of all possible labels\n",
    "        \n",
    "    Returns:\n",
    "        Tuple of (word_level_preds, word_level_labels) where each is a list of lists\n",
    "        aligned with the original words\n",
    "    \"\"\"\n",
    "    # Convert predictions to label IDs\n",
    "    pred_ids = np.argmax(predictions, axis=2)\n",
    "    \n",
    "    word_level_preds = []\n",
    "    word_level_labels = []\n",
    "    \n",
    "    for i, example in enumerate(dataset):\n",
    "        # Get original words and their count\n",
    "        original_words = example[\"words\"]\n",
    "        original_length = len(original_words)\n",
    "        \n",
    "        # Tokenize with word IDs\n",
    "        tokenized = tokenizer(\n",
    "            original_words,\n",
    "            is_split_into_words=True,\n",
    "            return_offsets_mapping=True\n",
    "        )\n",
    "        word_ids = tokenized.word_ids()  # Maps tokens to original word indices\n",
    "        \n",
    "        # Process predictions and labels\n",
    "        current_preds = []\n",
    "        current_labels = []\n",
    "        previous_word_idx = None\n",
    "        \n",
    "        for j, word_idx in enumerate(word_ids):\n",
    "            # Skip special tokens ([CLS], [SEP], etc.)\n",
    "            if word_idx is None:\n",
    "                continue\n",
    "            \n",
    "            # Only consider first subword of each word\n",
    "            if word_idx != previous_word_idx:\n",
    "                # Handle predictions\n",
    "                if j < len(pred_ids[i]):\n",
    "                    pred_label = label_list[pred_ids[i][j]]\n",
    "                    current_preds.append(pred_label)\n",
    "                \n",
    "                # Handle gold labels (ignore padding and -100 labels)\n",
    "                if j < len(labels[i]) and labels[i][j] != -100:\n",
    "                    gold_label = label_list[labels[i][j]]\n",
    "                    current_labels.append(gold_label)\n",
    "                \n",
    "                previous_word_idx = word_idx\n",
    "        \n",
    "        # Trim to original length (removes concatenated predicate)\n",
    "        word_level_preds.append(current_preds[:original_length])\n",
    "        word_level_labels.append(current_labels[:original_length])\n",
    "    \n",
    "    return word_level_preds, word_level_labels\n",
    "\n",
    "# Usage:\n",
    "word_level_preds, word_level_labels = align_predictions_to_words(\n",
    "    predictions, \n",
    "    labels, \n",
    "    dataset_dict[\"test\"], \n",
    "    tokenizer, \n",
    "    label_list\n",
    ")\n",
    "\n",
    "# Verify alignment\n",
    "assert len(word_level_preds) == len(word_level_labels)\n",
    "for preds, golds in zip(word_level_preds, word_level_labels):\n",
    "    assert len(preds) == len(golds), f\"Mismatch: {len(preds)} != {len(golds)}\""
   ]
  },
  {
   "cell_type": "code",
   "execution_count": 179,
   "id": "bda2ecbdfbc272fd",
   "metadata": {
    "ExecuteTime": {
     "end_time": "2025-03-28T21:27:20.094798Z",
     "start_time": "2025-03-28T21:27:20.090966Z"
    }
   },
   "outputs": [
    {
     "name": "stdout",
     "output_type": "stream",
     "text": [
      "4863\n"
     ]
    }
   ],
   "source": [
    "print(len(word_level_labels))"
   ]
  },
  {
   "cell_type": "code",
   "execution_count": 135,
   "id": "8eddcce517248d4c",
   "metadata": {
    "ExecuteTime": {
     "end_time": "2025-03-28T18:37:55.709988Z",
     "start_time": "2025-03-28T18:37:55.703655Z"
    }
   },
   "outputs": [
    {
     "name": "stdout",
     "output_type": "stream",
     "text": [
      "4863\n"
     ]
    }
   ],
   "source": [
    "print(len(word_level_preds))"
   ]
  },
  {
   "cell_type": "code",
   "execution_count": 141,
   "id": "4e1bbbd539a1d7ec",
   "metadata": {
    "ExecuteTime": {
     "end_time": "2025-03-28T18:43:07.471333Z",
     "start_time": "2025-03-28T18:43:07.464284Z"
    }
   },
   "outputs": [
    {
     "name": "stdout",
     "output_type": "stream",
     "text": [
      "101518\n"
     ]
    }
   ],
   "source": [
    "# Count total predictions across all sentences\n",
    "total_predictions = sum(len(preds) for preds in word_level_preds)\n",
    "print(total_predictions)"
   ]
  },
  {
   "cell_type": "markdown",
   "id": "5b4b11b95a77bf41",
   "metadata": {},
   "source": [
    "As we can see, the `word_level_preds` has as many sentences and tokens as mentioned above in the gathering statistics section."
   ]
  },
  {
   "cell_type": "markdown",
   "id": "ac9a9f57355b83d6",
   "metadata": {},
   "source": [
    "### 5. Results"
   ]
  },
  {
   "cell_type": "markdown",
   "id": "d52c69c98da9a868",
   "metadata": {},
   "source": [
    "To create a classification report and confusion matrix, we need to flatten the word_level_preds and word_level_labels"
   ]
  },
  {
   "cell_type": "code",
   "execution_count": 142,
   "id": "9b71430ed26b0834",
   "metadata": {
    "ExecuteTime": {
     "end_time": "2025-03-28T18:46:27.227915Z",
     "start_time": "2025-03-28T18:46:27.211284Z"
    }
   },
   "outputs": [],
   "source": [
    "from sklearn.metrics import classification_report, confusion_matrix\n",
    "import matplotlib.pyplot as plt\n",
    "import seaborn as sns\n",
    "import pandas as pd\n",
    "import numpy as np\n",
    "\n",
    "# Flatten the predictions and labels\n",
    "flat_preds = [pred for sent in word_level_preds for pred in sent]\n",
    "flat_labels = [label for sent in word_level_labels for label in sent]"
   ]
  },
  {
   "cell_type": "markdown",
   "id": "e53a9f0a46bb7002",
   "metadata": {},
   "source": [
    "There are 60 different argument labels in the train dataset, and only 44 in the test dataset. Below is the list of those 44. For the classification report and confusion matrix, we only use the 44 and assume every value for the 16 to be 0."
   ]
  },
  {
   "cell_type": "code",
   "execution_count": 144,
   "id": "a00ef926cf6566db",
   "metadata": {
    "ExecuteTime": {
     "end_time": "2025-03-28T18:49:53.589607Z",
     "start_time": "2025-03-28T18:49:53.577667Z"
    }
   },
   "outputs": [
    {
     "name": "stdout",
     "output_type": "stream",
     "text": [
      "Actual labels present: 44/60\n",
      "['ARG0', 'ARG1', 'ARG1-DSP', 'ARG2', 'ARG3', 'ARG4', 'ARG5', 'ARGA', 'ARGM-ADJ', 'ARGM-ADV', 'ARGM-CAU', 'ARGM-COM', 'ARGM-CXN', 'ARGM-DIR', 'ARGM-DIS', 'ARGM-EXT', 'ARGM-GOL', 'ARGM-LOC', 'ARGM-LVB', 'ARGM-MNR', 'ARGM-MOD', 'ARGM-NEG', 'ARGM-PRD', 'ARGM-PRP', 'ARGM-PRR', 'ARGM-TMP', 'C-ARG0', 'C-ARG1', 'C-ARG1-DSP', 'C-ARG2', 'C-ARG3', 'C-ARGM-CXN', 'C-ARGM-LOC', 'C-V', 'O', 'R-ARG0', 'R-ARG1', 'R-ARG2', 'R-ARGM-ADV', 'R-ARGM-DIR', 'R-ARGM-LOC', 'R-ARGM-MNR', 'R-ARGM-TMP', 'V']\n"
     ]
    }
   ],
   "source": [
    "present_labels = sorted(set(flat_labels + flat_preds))\n",
    "print(f\"Actual labels present: {len(present_labels)}/{len(label_list)}\")\n",
    "print(present_labels)"
   ]
  },
  {
   "cell_type": "code",
   "execution_count": 145,
   "id": "9e876f8892d1af2",
   "metadata": {
    "ExecuteTime": {
     "end_time": "2025-03-28T18:50:29.177458Z",
     "start_time": "2025-03-28T18:50:29.173320Z"
    }
   },
   "outputs": [],
   "source": [
    "# Filter label_list to only include present labels\n",
    "filtered_label_list = [label for label in label_list if label in present_labels]"
   ]
  },
  {
   "cell_type": "code",
   "execution_count": 149,
   "id": "76bdcee30f2b45bb",
   "metadata": {
    "ExecuteTime": {
     "end_time": "2025-03-28T18:52:29.542969Z",
     "start_time": "2025-03-28T18:52:28.826924Z"
    }
   },
   "outputs": [
    {
     "name": "stdout",
     "output_type": "stream",
     "text": [
      "Semantic Role Labeling Classification Report\n",
      "==========================================\n",
      "              precision    recall  f1-score   support\n",
      "\n",
      "        ARG0     0.8076    0.8319    0.8196      1731\n",
      "        ARG1     0.7596    0.8349    0.7955      3235\n",
      "    ARG1-DSP     0.0000    0.0000    0.0000         4\n",
      "        ARG2     0.6396    0.6566    0.6480      1127\n",
      "        ARG3     0.0000    0.0000    0.0000        74\n",
      "        ARG4     0.0000    0.0000    0.0000        56\n",
      "        ARG5     0.0000    0.0000    0.0000         1\n",
      "        ARGA     0.0000    0.0000    0.0000         2\n",
      "    ARGM-ADJ     0.6524    0.6667    0.6594       228\n",
      "    ARGM-ADV     0.5981    0.4980    0.5435       496\n",
      "    ARGM-CAU     0.0000    0.0000    0.0000        46\n",
      "    ARGM-COM     0.0000    0.0000    0.0000        13\n",
      "    ARGM-CXN     0.0000    0.0000    0.0000        12\n",
      "    ARGM-DIR     0.4412    0.3191    0.3704        47\n",
      "    ARGM-DIS     0.7415    0.5989    0.6626       182\n",
      "    ARGM-EXT     0.7935    0.6952    0.7411       105\n",
      "    ARGM-GOL     0.0000    0.0000    0.0000        24\n",
      "    ARGM-LOC     0.4977    0.5169    0.5071       207\n",
      "    ARGM-LVB     0.7288    0.6232    0.6719        69\n",
      "    ARGM-MNR     0.5258    0.3446    0.4163       148\n",
      "    ARGM-MOD     0.8750    0.9661    0.9183       442\n",
      "    ARGM-NEG     0.8583    0.9537    0.9035       216\n",
      "    ARGM-PRD     0.0000    0.0000    0.0000        44\n",
      "    ARGM-PRP     0.5714    0.3200    0.4103        75\n",
      "    ARGM-PRR     0.0000    0.0000    0.0000        69\n",
      "    ARGM-TMP     0.7702    0.7560    0.7631       541\n",
      "      C-ARG0     0.0000    0.0000    0.0000         3\n",
      "      C-ARG1     0.0000    0.0000    0.0000        52\n",
      "  C-ARG1-DSP     0.0000    0.0000    0.0000         1\n",
      "      C-ARG2     0.0000    0.0000    0.0000         7\n",
      "      C-ARG3     0.0000    0.0000    0.0000         2\n",
      "  C-ARGM-CXN     0.0000    0.0000    0.0000         5\n",
      "  C-ARGM-LOC     0.0000    0.0000    0.0000         1\n",
      "         C-V     0.0000    0.0000    0.0000        15\n",
      "           O     0.9827    0.9820    0.9823     87304\n",
      "      R-ARG0     0.8028    0.8507    0.8261        67\n",
      "      R-ARG1     0.6604    0.6731    0.6667        52\n",
      "      R-ARG2     0.0000    0.0000    0.0000         1\n",
      "  R-ARGM-ADV     0.0000    0.0000    0.0000         1\n",
      "  R-ARGM-DIR     0.0000    0.0000    0.0000         1\n",
      "  R-ARGM-LOC     0.0000    0.0000    0.0000         9\n",
      "  R-ARGM-MNR     0.0000    0.0000    0.0000         8\n",
      "  R-ARGM-TMP     0.0000    0.0000    0.0000         2\n",
      "           V     0.9326    0.9850    0.9581      4793\n",
      "\n",
      "    accuracy                         0.9584    101518\n",
      "   macro avg     0.3100    0.2971    0.3014    101518\n",
      "weighted avg     0.9542    0.9584    0.9561    101518\n",
      "\n"
     ]
    }
   ],
   "source": [
    "# Generate classification report\n",
    "print(\"Semantic Role Labeling Classification Report\")\n",
    "print(\"==========================================\")\n",
    "print(classification_report(\n",
    "    flat_labels,\n",
    "    flat_preds,\n",
    "    labels=filtered_label_list,\n",
    "    target_names=filtered_label_list,\n",
    "    digits=4,\n",
    "    zero_division=0\n",
    "))\n"
   ]
  },
  {
   "cell_type": "code",
   "execution_count": 151,
   "id": "837019bd6c25758c",
   "metadata": {
    "ExecuteTime": {
     "end_time": "2025-03-28T19:02:35.824161Z",
     "start_time": "2025-03-28T19:02:32.886005Z"
    }
   },
   "outputs": [
    {
     "data": {
      "image/png": "[encoded data removed]",
      "text/plain": [
       "<Figure size 1500x1300 with 1 Axes>"
      ]
     },
     "metadata": {},
     "output_type": "display_data"
    }
   ],
   "source": [
    "# Generate confusion matrix\n",
    "plt.figure(figsize=(15, 13))\n",
    "cm = confusion_matrix(flat_labels, flat_preds, labels=filtered_label_list)\n",
    "\n",
    "# Create DataFrame for better visualization\n",
    "cm_df = pd.DataFrame(cm, index=filtered_label_list, columns=filtered_label_list)\n",
    "\n",
    "# Plot heatmap\n",
    "sns.heatmap(cm, annot=True, fmt='d',\n",
    "            xticklabels=filtered_label_list,\n",
    "            yticklabels=filtered_label_list,\n",
    "            cmap='Blues',\n",
    "            cbar=False,\n",
    "            annot_kws={\"size\": 8},\n",
    "            linewidths=0.5,\n",
    "            linecolor=\"grey\")\n",
    "plt.title(\"Confusion Matrix (Present Labels Only)\")\n",
    "plt.xlabel(\"Predicted\")\n",
    "plt.ylabel(\"True\")\n",
    "plt.xticks(rotation=45, ha='right')\n",
    "plt.tight_layout()\n",
    "plt.show()"
   ]
  },
  {
   "cell_type": "markdown",
   "id": "d6a3cb322fe05579",
   "metadata": {},
   "source": [
    "### 6. Evaluation"
   ]
  },
  {
   "cell_type": "markdown",
   "id": "ab9aa5e0d1465a1e",
   "metadata": {},
   "source": [
    "#### Overall Performance:\n",
    "\n",
    "The model achieves an overall accuracy of 0.9584, though this is heavily influenced by the dominant 'O' class (no argument), which accounts for 87,304 out of 101,518 tokens (86%). The macro average F1-score of 0.3014 versus the weighted average F1-score of 0.9561 reveals a significant performance disparity between frequent and rare classes. While the model excels at predicting common labels ('O', core arguments, and frequent modifiers), it struggles substantially with less common semantic roles."
   ]
  },
  {
   "cell_type": "markdown",
   "id": "30018701c1a0415e",
   "metadata": {},
   "source": [
    "#### Performance by Class:\n",
    "\n",
    "\n",
    "##### High-performing Classes:\n",
    "The model shows exceptional performance on:\n",
    "\n",
    "    The 'O' class (F1=0.9823), demonstrating near-perfect identification of non-argument tokens\n",
    "\n",
    "    Core verb identification ('V' with F1=0.9581)\n",
    "\n",
    "    Core arguments: 'ARG0' (F1=0.8196) and 'ARG1' (F1=0.7955)\n",
    "\n",
    "    Key modifiers: 'ARGM-MOD' (F1=0.9183), 'ARGM-NEG' (F1=0.9035), and 'ARGM-TMP' (F1=0.7631)\n",
    "\n",
    "\n",
    "##### Moderate-performing Classes: \n",
    "\n",
    "Several classes show acceptable but imperfect performance:\n",
    "\n",
    "    'ARG2' (F1=0.6480)\n",
    "\n",
    "    'ARGM-ADJ' (F1=0.6594)\n",
    "\n",
    "    'ARGM-EXT' (F1=0.7411)\n",
    "\n",
    "    'ARGM-DIS' (F1=0.6626)\n",
    "    \n",
    "\n",
    "##### Low-performing Classes:\n",
    "\n",
    "The model completely fails to predict (F1=0.00) numerous rare classes including:\n",
    "\n",
    "    All numbered arguments beyond ARG4 ('ARG5')\n",
    "\n",
    "    Most complex arguments ('ARGA', 'ARGM-CAU', 'ARGM-COM')\n",
    "\n",
    "    Nearly all continuation ('C-') and reference ('R-') arguments\n",
    "\n",
    "    Many spatial/temporal modifiers ('ARGM-DIR', 'ARGM-GOL')\n",
    "    \n",
    "\n",
    "The performance pattern suggests the model handles basic predicate-argument structure well. However, the performance degrades for more complex or subtle semantic roles. Rare classes like the ones who have less than 100 examples are essentially unpredicted. This shows a clear need for either more training data for rare classes or to apply class balancing techniques"
   ]
  },
  {
   "cell_type": "code",
   "id": "43a5c67c0e8bf87d",
   "metadata": {
    "ExecuteTime": {
     "end_time": "2025-03-28T21:52:17.328137Z",
     "start_time": "2025-03-28T21:52:16.958049Z"
    }
   },
   "source": [
    "# Save results to files\n",
    "report = classification_report(\n",
    "    flat_labels,\n",
    "    flat_preds,\n",
    "    target_names=filtered_label_list,\n",
    "    output_dict=True,\n",
    "    digits=4,\n",
    "    zero_division=0\n",
    ")\n",
    "\n",
    "# Convert to DataFrame and save\n",
    "report_df = pd.DataFrame(report).transpose()\n",
    "report_df.to_csv('srl_classification_report.tsv', sep=\"\\t\")\n",
    "\n",
    "# Save confusion matrix\n",
    "cm_df.to_csv('srl_confusion_matrix.tsv', sep=\"\\t\")\n",
    "\n",
    "print(\"\\nSaved results to:\")\n",
    "print(\"- srl_classification_report.tsv\")\n",
    "print(\"- srl_confusion_matrix.tsv\")"
   ],
   "outputs": [
    {
     "name": "stdout",
     "output_type": "stream",
     "text": [
      "\n",
      "Saved results to:\n",
      "- srl_classification_report.tsv\n",
      "- srl_confusion_matrix.tsv\n"
     ]
    }
   ],
   "execution_count": 181
  },
  {
   "cell_type": "code",
   "execution_count": 153,
   "id": "de56dea14f4a801c",
   "metadata": {
    "ExecuteTime": {
     "end_time": "2025-03-28T19:05:07.514323Z",
     "start_time": "2025-03-28T19:05:07.501541Z"
    }
   },
   "outputs": [
    {
     "name": "stdout",
     "output_type": "stream",
     "text": [
      "Total labels in label_list: 60\n",
      "Labels actually present: 44\n",
      "\n",
      "Labels filtered out (16):\n",
      "1. ARGM-REC\n",
      "2. C-ARG4\n",
      "3. C-ARGM-ADV\n",
      "4. C-ARGM-COM\n",
      "5. C-ARGM-DIR\n",
      "6. C-ARGM-EXT\n",
      "7. C-ARGM-GOL\n",
      "8. C-ARGM-MNR\n",
      "9. C-ARGM-PRP\n",
      "10. C-ARGM-PRR\n",
      "11. C-ARGM-TMP\n",
      "12. R-ARG3\n",
      "13. R-ARG4\n",
      "14. R-ARGM-CAU\n",
      "15. R-ARGM-COM\n",
      "16. R-ARGM-GOL\n"
     ]
    }
   ],
   "source": [
    "# Get all possible labels from your label list\n",
    "all_labels = set(label_list)\n",
    "\n",
    "# Get labels that actually appeared in predictions or ground truth\n",
    "present_labels = set(flat_labels + flat_preds)\n",
    "\n",
    "# Find labels that were filtered out\n",
    "filtered_out_labels = sorted(all_labels - present_labels)\n",
    "\n",
    "# Print results\n",
    "print(f\"Total labels in label_list: {len(all_labels)}\")\n",
    "print(f\"Labels actually present: {len(present_labels)}\")\n",
    "print(f\"\\nLabels filtered out ({len(filtered_out_labels)}):\")\n",
    "for i, label in enumerate(filtered_out_labels, 1):\n",
    "    print(f\"{i}. {label}\")"
   ]
  },
  {
   "cell_type": "markdown",
   "id": "df7a1b60c2c2f990",
   "metadata": {},
   "source": [
    "### 7. Saving predictions to a file"
   ]
  },
  {
   "cell_type": "code",
   "execution_count": 155,
   "id": "433fc8c560008f36",
   "metadata": {
    "ExecuteTime": {
     "end_time": "2025-03-28T19:11:40.202658Z",
     "start_time": "2025-03-28T19:11:39.859675Z"
    }
   },
   "outputs": [
    {
     "name": "stdout",
     "output_type": "stream",
     "text": [
      "Predictions saved to predictions.tsv\n"
     ]
    }
   ],
   "source": [
    "import csv\n",
    "\n",
    "def save_predictions_to_tsv(dataset, word_level_preds, word_level_labels, output_file=\"predictions.tsv\"):\n",
    "    \"\"\"\n",
    "    Saves predictions in TSV format with columns: token, gold_label, predicted_label\n",
    "    \n",
    "    Args:\n",
    "        dataset: Original dataset containing \"words\" for each example\n",
    "        word_level_preds: List of predicted labels for each token\n",
    "        word_level_labels: List of gold labels for each token\n",
    "        output_file: Path to save the TSV file\n",
    "    \"\"\"\n",
    "    with open(output_file, 'w', newline='') as f:\n",
    "        writer = csv.writer(f, delimiter='\\t')\n",
    "        \n",
    "        # Write header\n",
    "        writer.writerow(['token', 'gold_label', 'predicted_label'])\n",
    "        \n",
    "        # Write each token with its labels\n",
    "        for words, golds, preds in zip(dataset['words'], word_level_labels, word_level_preds):\n",
    "            for word, gold, pred in zip(words, golds, preds):\n",
    "                writer.writerow([word, gold, pred])\n",
    "    \n",
    "    print(f\"Predictions saved to {output_file}\")\n",
    "\n",
    "# Usage:\n",
    "save_predictions_to_tsv(\n",
    "    dataset_dict[\"test\"],\n",
    "    word_level_preds,\n",
    "    word_level_labels,\n",
    "    \"predictions.tsv\"\n",
    ")"
   ]
  },
  {
   "cell_type": "markdown",
   "id": "3f1ac7eb6481e36c",
   "metadata": {},
   "source": [
    "## 8. Creating an inference function"
   ]
  },
  {
   "cell_type": "code",
   "execution_count": 168,
   "id": "4798ce9953696a79",
   "metadata": {
    "ExecuteTime": {
     "end_time": "2025-03-28T20:10:29.928261Z",
     "start_time": "2025-03-28T20:10:29.922987Z"
    }
   },
   "outputs": [],
   "source": [
    "import torch\n",
    "def perform_srl(sentence, predicate_mask, model, tokenizer, label_list):\n",
    "    \"\"\"\n",
    "    Returns SRL roles for all tokens, maintaining original sentence indices.\n",
    "    \n",
    "    Args:\n",
    "        sentence: List[str] - Tokenized words\n",
    "        predicate_mask: List[int] - Binary mask with exactly one 1\n",
    "        model: Fine-tuned SRL model\n",
    "        tokenizer: Model's tokenizer\n",
    "        label_list: List[str] - All SRL labels\n",
    "        \n",
    "    Returns:\n",
    "        List[str] - Roles for each token (including 'O' and predicate)\n",
    "        Example: ['O', 'ARG0', 'V', 'O', 'ARG1', 'ARGM-LOC', 'O']\n",
    "    \"\"\"\n",
    "    # Validate single predicate\n",
    "    if sum(predicate_mask) != 1:\n",
    "        raise ValueError(\"Must specify exactly one predicate\")\n",
    "    \n",
    "    # Prepare input\n",
    "    predicate_idx = predicate_mask.index(1)\n",
    "    inputs = tokenizer(\n",
    "        sentence,\n",
    "        [sentence[predicate_idx]],\n",
    "        is_split_into_words=True,\n",
    "        return_tensors=\"pt\",\n",
    "        truncation=True\n",
    "    )\n",
    "    \n",
    "    # Get predictions\n",
    "    with torch.no_grad():\n",
    "        outputs = model(**inputs)\n",
    "    predictions = np.argmax(outputs.logits.cpu().numpy(), axis=2)[0]\n",
    "    \n",
    "    # Initialize with 'O' as default\n",
    "    roles = ['O'] * len(sentence)\n",
    "    word_ids = inputs.word_ids(0)\n",
    "    current_word = None\n",
    "    \n",
    "    for token_idx, word_id in enumerate(word_ids):\n",
    "        if word_id is None or word_id == current_word:\n",
    "            continue\n",
    "            \n",
    "        current_word = word_id\n",
    "        roles[word_id] = label_list[predictions[token_idx]]\n",
    "    \n",
    "    return roles\n"
   ]
  },
  {
   "cell_type": "code",
   "execution_count": 169,
   "id": "f5ed05cd88859220",
   "metadata": {
    "ExecuteTime": {
     "end_time": "2025-03-28T20:10:31.913542Z",
     "start_time": "2025-03-28T20:10:31.868487Z"
    }
   },
   "outputs": [
    {
     "name": "stdout",
     "output_type": "stream",
     "text": [
      "Argument roles: ['O', 'ARG0', 'V', 'O', 'ARG1', 'O', 'O', 'ARGM-LOC', 'O']\n"
     ]
    }
   ],
   "source": [
    "model_path = \"model\"\n",
    "loaded_tokenizer = AutoTokenizer.from_pretrained(model_path)\n",
    "loaded_model = AutoModelForTokenClassification.from_pretrained(model_path)\n",
    "\n",
    "sentence = [\"The\", \"dog\", \"chased\", \"the\", \"ball\", \"in\", \"the\", \"park\", \".\"]\n",
    "predicate_mask = [0, 0, 1, 0, 0, 0, 0, 0, 0]\n",
    "\n",
    "arguments = perform_srl(sentence, predicate_mask, model, tokenizer, label_list)\n",
    "print(\"Argument roles:\", arguments)"
   ]
  }
 ],
 "metadata": {
  "kernelspec": {
   "display_name": "Python 3 (ipykernel)",
   "language": "python",
   "name": "python3"
  },
  "language_info": {
   "codemirror_mode": {
    "name": "ipython",
    "version": 3
   },
   "file_extension": ".py",
   "mimetype": "text/x-python",
   "name": "python",
   "nbconvert_exporter": "python",
   "pygments_lexer": "ipython3",
   "version": "3.12.3"
  }
 },
 "nbformat": 4,
 "nbformat_minor": 5
}
